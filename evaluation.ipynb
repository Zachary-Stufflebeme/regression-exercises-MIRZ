{
 "cells": [
  {
   "cell_type": "code",
   "execution_count": 1,
   "metadata": {
    "collapsed": true
   },
   "outputs": [],
   "source": [
    "from grab_db import my_db\n",
    "import numpy as np\n",
    "import pandas as pd\n",
    "import sklearn.preprocessing\n",
    "from zillow_wrangle import my_train_test_split, clean_zillow, plot_variable_pairs, plot_categorical_and_continuous_vars, get_zillow_data\n",
    "from sklearn.model_selection import train_test_split\n",
    "import seaborn as sns\n",
    "import matplotlib.pyplot as plt\n",
    "import warnings\n",
    "\n",
    "warnings.filterwarnings(\"ignore\")\n",
    "from scipy.stats import pearsonr, spearmanr\n",
    "from sklearn.linear_model import LinearRegression\n",
    "from evaluate import plot_residuals, regression_errors, baseline_mean_errors, better_than_baseline"
   ]
  },
  {
   "cell_type": "code",
   "execution_count": 2,
   "outputs": [],
   "source": [
    "zillow = get_zillow_data()"
   ],
   "metadata": {
    "collapsed": false
   }
  },
  {
   "cell_type": "code",
   "execution_count": 3,
   "outputs": [],
   "source": [
    "zillow = clean_zillow(zillow)"
   ],
   "metadata": {
    "collapsed": false
   }
  },
  {
   "cell_type": "code",
   "execution_count": 4,
   "outputs": [
    {
     "data": {
      "text/plain": "         bathroomcnt  bedroomcnt  calculatedfinishedsquarefeet  \\\n0                2.0         4.0                        3633.0   \n1                4.0         3.0                        1620.0   \n2                2.0         3.0                        2077.0   \n3                0.0         0.0                        1200.0   \n4                0.0         0.0                         171.0   \n...              ...         ...                           ...   \n2142798          4.0         4.0                        4375.0   \n2142799          3.0         4.0                        2262.0   \n2142800          4.5         4.0                        3127.0   \n2142801          2.5         3.0                        1974.0   \n2142802          4.0         4.0                        2110.0   \n\n         taxvaluedollarcnt  location   age  \n0                 296425.0         0  17.0  \n1                 847770.0         0  11.0  \n2                 646760.0         0  96.0  \n3                   5328.0         0  50.0  \n4                   6920.0         0  49.0  \n...                    ...       ...   ...  \n2142798           422400.0         0   7.0  \n2142799           960756.0         1   7.0  \n2142800           536061.0         1   8.0  \n2142801           424353.0         1   7.0  \n2142802           554009.0         0   8.0  \n\n[2142803 rows x 6 columns]",
      "text/html": "<div>\n<style scoped>\n    .dataframe tbody tr th:only-of-type {\n        vertical-align: middle;\n    }\n\n    .dataframe tbody tr th {\n        vertical-align: top;\n    }\n\n    .dataframe thead th {\n        text-align: right;\n    }\n</style>\n<table border=\"1\" class=\"dataframe\">\n  <thead>\n    <tr style=\"text-align: right;\">\n      <th></th>\n      <th>bathroomcnt</th>\n      <th>bedroomcnt</th>\n      <th>calculatedfinishedsquarefeet</th>\n      <th>taxvaluedollarcnt</th>\n      <th>location</th>\n      <th>age</th>\n    </tr>\n  </thead>\n  <tbody>\n    <tr>\n      <th>0</th>\n      <td>2.0</td>\n      <td>4.0</td>\n      <td>3633.0</td>\n      <td>296425.0</td>\n      <td>0</td>\n      <td>17.0</td>\n    </tr>\n    <tr>\n      <th>1</th>\n      <td>4.0</td>\n      <td>3.0</td>\n      <td>1620.0</td>\n      <td>847770.0</td>\n      <td>0</td>\n      <td>11.0</td>\n    </tr>\n    <tr>\n      <th>2</th>\n      <td>2.0</td>\n      <td>3.0</td>\n      <td>2077.0</td>\n      <td>646760.0</td>\n      <td>0</td>\n      <td>96.0</td>\n    </tr>\n    <tr>\n      <th>3</th>\n      <td>0.0</td>\n      <td>0.0</td>\n      <td>1200.0</td>\n      <td>5328.0</td>\n      <td>0</td>\n      <td>50.0</td>\n    </tr>\n    <tr>\n      <th>4</th>\n      <td>0.0</td>\n      <td>0.0</td>\n      <td>171.0</td>\n      <td>6920.0</td>\n      <td>0</td>\n      <td>49.0</td>\n    </tr>\n    <tr>\n      <th>...</th>\n      <td>...</td>\n      <td>...</td>\n      <td>...</td>\n      <td>...</td>\n      <td>...</td>\n      <td>...</td>\n    </tr>\n    <tr>\n      <th>2142798</th>\n      <td>4.0</td>\n      <td>4.0</td>\n      <td>4375.0</td>\n      <td>422400.0</td>\n      <td>0</td>\n      <td>7.0</td>\n    </tr>\n    <tr>\n      <th>2142799</th>\n      <td>3.0</td>\n      <td>4.0</td>\n      <td>2262.0</td>\n      <td>960756.0</td>\n      <td>1</td>\n      <td>7.0</td>\n    </tr>\n    <tr>\n      <th>2142800</th>\n      <td>4.5</td>\n      <td>4.0</td>\n      <td>3127.0</td>\n      <td>536061.0</td>\n      <td>1</td>\n      <td>8.0</td>\n    </tr>\n    <tr>\n      <th>2142801</th>\n      <td>2.5</td>\n      <td>3.0</td>\n      <td>1974.0</td>\n      <td>424353.0</td>\n      <td>1</td>\n      <td>7.0</td>\n    </tr>\n    <tr>\n      <th>2142802</th>\n      <td>4.0</td>\n      <td>4.0</td>\n      <td>2110.0</td>\n      <td>554009.0</td>\n      <td>0</td>\n      <td>8.0</td>\n    </tr>\n  </tbody>\n</table>\n<p>2142803 rows × 6 columns</p>\n</div>"
     },
     "execution_count": 4,
     "metadata": {},
     "output_type": "execute_result"
    }
   ],
   "source": [
    "zillow"
   ],
   "metadata": {
    "collapsed": false
   }
  },
  {
   "cell_type": "code",
   "execution_count": 5,
   "outputs": [],
   "source": [
    "train, validate, test = my_train_test_split(zillow)\n",
    "x_train = train.drop(columns = 'taxvaluedollarcnt')\n",
    "y_train = train.taxvaluedollarcnt"
   ],
   "metadata": {
    "collapsed": false
   }
  },
  {
   "cell_type": "markdown",
   "source": [
    "## BASELINE:"
   ],
   "metadata": {
    "collapsed": false
   }
  },
  {
   "cell_type": "code",
   "execution_count": 6,
   "outputs": [],
   "source": [
    "train['baseline'] = train.taxvaluedollarcnt.mean()\n",
    "baseline = train.taxvaluedollarcnt.mean()"
   ],
   "metadata": {
    "collapsed": false
   }
  },
  {
   "cell_type": "code",
   "execution_count": 7,
   "outputs": [
    {
     "data": {
      "text/plain": "<Figure size 432x288 with 1 Axes>",
      "image/png": "[encoded data removed]"
     },
     "metadata": {},
     "output_type": "display_data"
    }
   ],
   "source": [
    "plt.plot(train.calculatedfinishedsquarefeet,train.taxvaluedollarcnt,'o')\n",
    "plt.plot([0,70000], [baseline, baseline], color='red', linestyle='-', linewidth=2)\n",
    "plt.show()\n"
   ],
   "metadata": {
    "collapsed": false
   }
  },
  {
   "cell_type": "markdown",
   "source": [
    "## Model:"
   ],
   "metadata": {
    "collapsed": false
   }
  },
  {
   "cell_type": "code",
   "execution_count": 8,
   "outputs": [],
   "source": [
    "model = LinearRegression().fit(train[['calculatedfinishedsquarefeet']], train.taxvaluedollarcnt)"
   ],
   "metadata": {
    "collapsed": false
   }
  },
  {
   "cell_type": "code",
   "execution_count": 9,
   "outputs": [],
   "source": [
    "train['predictions'] = model.predict(train[['calculatedfinishedsquarefeet']])"
   ],
   "metadata": {
    "collapsed": false
   }
  },
  {
   "cell_type": "code",
   "execution_count": 10,
   "outputs": [
    {
     "data": {
      "text/plain": "         bathroomcnt  bedroomcnt  calculatedfinishedsquarefeet  \\\n564018           1.0         3.0                        1373.0   \n2131776          3.0         5.0                        2668.0   \n1384152          2.0         4.0                        2048.0   \n577743           1.0         3.0                         936.0   \n2131422          3.0         3.0                        3166.0   \n...              ...         ...                           ...   \n1864178          3.0         5.0                        2736.0   \n1094831          2.0         3.0                        1560.0   \n946271           2.0         3.0                        1905.0   \n134615           1.0         2.0                        1011.0   \n84473            2.5         3.0                        3128.0   \n\n         taxvaluedollarcnt  location    age       baseline   predictions  \n564018             46093.0         0   75.0  461142.904974  2.516974e+05  \n2131776           320600.0         0   19.0  461142.904974  8.055774e+05  \n1384152           365818.0         0  102.0  461142.904974  5.403993e+05  \n577743            253220.0         1   76.0  461142.904974  6.478963e+04  \n2131422           592709.0         1   33.0  461142.904974  1.018575e+06  \n...                    ...       ...    ...            ...           ...  \n1864178           275000.0         0   17.0  461142.904974  8.346615e+05  \n1094831           346956.0         0   27.0  461142.904974  3.316785e+05  \n946271            355145.0         0   75.0  461142.904974  4.792373e+05  \n134615            340688.0         0  100.0  461142.904974  9.686762e+04  \n84473             913539.0         1   32.0  461142.904974  1.002322e+06  \n\n[1285681 rows x 8 columns]",
      "text/html": "<div>\n<style scoped>\n    .dataframe tbody tr th:only-of-type {\n        vertical-align: middle;\n    }\n\n    .dataframe tbody tr th {\n        vertical-align: top;\n    }\n\n    .dataframe thead th {\n        text-align: right;\n    }\n</style>\n<table border=\"1\" class=\"dataframe\">\n  <thead>\n    <tr style=\"text-align: right;\">\n      <th></th>\n      <th>bathroomcnt</th>\n      <th>bedroomcnt</th>\n      <th>calculatedfinishedsquarefeet</th>\n      <th>taxvaluedollarcnt</th>\n      <th>location</th>\n      <th>age</th>\n      <th>baseline</th>\n      <th>predictions</th>\n    </tr>\n  </thead>\n  <tbody>\n    <tr>\n      <th>564018</th>\n      <td>1.0</td>\n      <td>3.0</td>\n      <td>1373.0</td>\n      <td>46093.0</td>\n      <td>0</td>\n      <td>75.0</td>\n      <td>461142.904974</td>\n      <td>2.516974e+05</td>\n    </tr>\n    <tr>\n      <th>2131776</th>\n      <td>3.0</td>\n      <td>5.0</td>\n      <td>2668.0</td>\n      <td>320600.0</td>\n      <td>0</td>\n      <td>19.0</td>\n      <td>461142.904974</td>\n      <td>8.055774e+05</td>\n    </tr>\n    <tr>\n      <th>1384152</th>\n      <td>2.0</td>\n      <td>4.0</td>\n      <td>2048.0</td>\n      <td>365818.0</td>\n      <td>0</td>\n      <td>102.0</td>\n      <td>461142.904974</td>\n      <td>5.403993e+05</td>\n    </tr>\n    <tr>\n      <th>577743</th>\n      <td>1.0</td>\n      <td>3.0</td>\n      <td>936.0</td>\n      <td>253220.0</td>\n      <td>1</td>\n      <td>76.0</td>\n      <td>461142.904974</td>\n      <td>6.478963e+04</td>\n    </tr>\n    <tr>\n      <th>2131422</th>\n      <td>3.0</td>\n      <td>3.0</td>\n      <td>3166.0</td>\n      <td>592709.0</td>\n      <td>1</td>\n      <td>33.0</td>\n      <td>461142.904974</td>\n      <td>1.018575e+06</td>\n    </tr>\n    <tr>\n      <th>...</th>\n      <td>...</td>\n      <td>...</td>\n      <td>...</td>\n      <td>...</td>\n      <td>...</td>\n      <td>...</td>\n      <td>...</td>\n      <td>...</td>\n    </tr>\n    <tr>\n      <th>1864178</th>\n      <td>3.0</td>\n      <td>5.0</td>\n      <td>2736.0</td>\n      <td>275000.0</td>\n      <td>0</td>\n      <td>17.0</td>\n      <td>461142.904974</td>\n      <td>8.346615e+05</td>\n    </tr>\n    <tr>\n      <th>1094831</th>\n      <td>2.0</td>\n      <td>3.0</td>\n      <td>1560.0</td>\n      <td>346956.0</td>\n      <td>0</td>\n      <td>27.0</td>\n      <td>461142.904974</td>\n      <td>3.316785e+05</td>\n    </tr>\n    <tr>\n      <th>946271</th>\n      <td>2.0</td>\n      <td>3.0</td>\n      <td>1905.0</td>\n      <td>355145.0</td>\n      <td>0</td>\n      <td>75.0</td>\n      <td>461142.904974</td>\n      <td>4.792373e+05</td>\n    </tr>\n    <tr>\n      <th>134615</th>\n      <td>1.0</td>\n      <td>2.0</td>\n      <td>1011.0</td>\n      <td>340688.0</td>\n      <td>0</td>\n      <td>100.0</td>\n      <td>461142.904974</td>\n      <td>9.686762e+04</td>\n    </tr>\n    <tr>\n      <th>84473</th>\n      <td>2.5</td>\n      <td>3.0</td>\n      <td>3128.0</td>\n      <td>913539.0</td>\n      <td>1</td>\n      <td>32.0</td>\n      <td>461142.904974</td>\n      <td>1.002322e+06</td>\n    </tr>\n  </tbody>\n</table>\n<p>1285681 rows × 8 columns</p>\n</div>"
     },
     "execution_count": 10,
     "metadata": {},
     "output_type": "execute_result"
    }
   ],
   "source": [
    "train"
   ],
   "metadata": {
    "collapsed": false
   }
  },
  {
   "cell_type": "code",
   "execution_count": 11,
   "outputs": [],
   "source": [
    "train['residual'] = train['predictions'] - train['taxvaluedollarcnt']"
   ],
   "metadata": {
    "collapsed": false
   }
  },
  {
   "cell_type": "code",
   "execution_count": 12,
   "outputs": [],
   "source": [
    "train['baseline_residual'] = train['baseline'] - train['taxvaluedollarcnt']"
   ],
   "metadata": {
    "collapsed": false
   }
  },
  {
   "cell_type": "code",
   "execution_count": 13,
   "outputs": [
    {
     "data": {
      "text/plain": "         bathroomcnt  bedroomcnt  calculatedfinishedsquarefeet  \\\n564018           1.0         3.0                        1373.0   \n2131776          3.0         5.0                        2668.0   \n1384152          2.0         4.0                        2048.0   \n577743           1.0         3.0                         936.0   \n2131422          3.0         3.0                        3166.0   \n...              ...         ...                           ...   \n1864178          3.0         5.0                        2736.0   \n1094831          2.0         3.0                        1560.0   \n946271           2.0         3.0                        1905.0   \n134615           1.0         2.0                        1011.0   \n84473            2.5         3.0                        3128.0   \n\n         taxvaluedollarcnt  location    age       baseline   predictions  \\\n564018             46093.0         0   75.0  461142.904974  2.516974e+05   \n2131776           320600.0         0   19.0  461142.904974  8.055774e+05   \n1384152           365818.0         0  102.0  461142.904974  5.403993e+05   \n577743            253220.0         1   76.0  461142.904974  6.478963e+04   \n2131422           592709.0         1   33.0  461142.904974  1.018575e+06   \n...                    ...       ...    ...            ...           ...   \n1864178           275000.0         0   17.0  461142.904974  8.346615e+05   \n1094831           346956.0         0   27.0  461142.904974  3.316785e+05   \n946271            355145.0         0   75.0  461142.904974  4.792373e+05   \n134615            340688.0         0  100.0  461142.904974  9.686762e+04   \n84473             913539.0         1   32.0  461142.904974  1.002322e+06   \n\n              residual  baseline_residual  \n564018   205604.399391      415049.904974  \n2131776  484977.406731      140542.904974  \n1384152  174581.333719       95324.904974  \n577743  -188430.371426      207922.904974  \n2131422  425866.278280     -131566.095026  \n...                ...                ...  \n1864178  559661.453449      186142.904974  \n1094831  -15277.472136      114186.904974  \n946271   124092.294298      105997.904974  \n134615  -243820.378723      120454.904974  \n84473     88783.428643     -452396.095026  \n\n[1285681 rows x 10 columns]",
      "text/html": "<div>\n<style scoped>\n    .dataframe tbody tr th:only-of-type {\n        vertical-align: middle;\n    }\n\n    .dataframe tbody tr th {\n        vertical-align: top;\n    }\n\n    .dataframe thead th {\n        text-align: right;\n    }\n</style>\n<table border=\"1\" class=\"dataframe\">\n  <thead>\n    <tr style=\"text-align: right;\">\n      <th></th>\n      <th>bathroomcnt</th>\n      <th>bedroomcnt</th>\n      <th>calculatedfinishedsquarefeet</th>\n      <th>taxvaluedollarcnt</th>\n      <th>location</th>\n      <th>age</th>\n      <th>baseline</th>\n      <th>predictions</th>\n      <th>residual</th>\n      <th>baseline_residual</th>\n    </tr>\n  </thead>\n  <tbody>\n    <tr>\n      <th>564018</th>\n      <td>1.0</td>\n      <td>3.0</td>\n      <td>1373.0</td>\n      <td>46093.0</td>\n      <td>0</td>\n      <td>75.0</td>\n      <td>461142.904974</td>\n      <td>2.516974e+05</td>\n      <td>205604.399391</td>\n      <td>415049.904974</td>\n    </tr>\n    <tr>\n      <th>2131776</th>\n      <td>3.0</td>\n      <td>5.0</td>\n      <td>2668.0</td>\n      <td>320600.0</td>\n      <td>0</td>\n      <td>19.0</td>\n      <td>461142.904974</td>\n      <td>8.055774e+05</td>\n      <td>484977.406731</td>\n      <td>140542.904974</td>\n    </tr>\n    <tr>\n      <th>1384152</th>\n      <td>2.0</td>\n      <td>4.0</td>\n      <td>2048.0</td>\n      <td>365818.0</td>\n      <td>0</td>\n      <td>102.0</td>\n      <td>461142.904974</td>\n      <td>5.403993e+05</td>\n      <td>174581.333719</td>\n      <td>95324.904974</td>\n    </tr>\n    <tr>\n      <th>577743</th>\n      <td>1.0</td>\n      <td>3.0</td>\n      <td>936.0</td>\n      <td>253220.0</td>\n      <td>1</td>\n      <td>76.0</td>\n      <td>461142.904974</td>\n      <td>6.478963e+04</td>\n      <td>-188430.371426</td>\n      <td>207922.904974</td>\n    </tr>\n    <tr>\n      <th>2131422</th>\n      <td>3.0</td>\n      <td>3.0</td>\n      <td>3166.0</td>\n      <td>592709.0</td>\n      <td>1</td>\n      <td>33.0</td>\n      <td>461142.904974</td>\n      <td>1.018575e+06</td>\n      <td>425866.278280</td>\n      <td>-131566.095026</td>\n    </tr>\n    <tr>\n      <th>...</th>\n      <td>...</td>\n      <td>...</td>\n      <td>...</td>\n      <td>...</td>\n      <td>...</td>\n      <td>...</td>\n      <td>...</td>\n      <td>...</td>\n      <td>...</td>\n      <td>...</td>\n    </tr>\n    <tr>\n      <th>1864178</th>\n      <td>3.0</td>\n      <td>5.0</td>\n      <td>2736.0</td>\n      <td>275000.0</td>\n      <td>0</td>\n      <td>17.0</td>\n      <td>461142.904974</td>\n      <td>8.346615e+05</td>\n      <td>559661.453449</td>\n      <td>186142.904974</td>\n    </tr>\n    <tr>\n      <th>1094831</th>\n      <td>2.0</td>\n      <td>3.0</td>\n      <td>1560.0</td>\n      <td>346956.0</td>\n      <td>0</td>\n      <td>27.0</td>\n      <td>461142.904974</td>\n      <td>3.316785e+05</td>\n      <td>-15277.472136</td>\n      <td>114186.904974</td>\n    </tr>\n    <tr>\n      <th>946271</th>\n      <td>2.0</td>\n      <td>3.0</td>\n      <td>1905.0</td>\n      <td>355145.0</td>\n      <td>0</td>\n      <td>75.0</td>\n      <td>461142.904974</td>\n      <td>4.792373e+05</td>\n      <td>124092.294298</td>\n      <td>105997.904974</td>\n    </tr>\n    <tr>\n      <th>134615</th>\n      <td>1.0</td>\n      <td>2.0</td>\n      <td>1011.0</td>\n      <td>340688.0</td>\n      <td>0</td>\n      <td>100.0</td>\n      <td>461142.904974</td>\n      <td>9.686762e+04</td>\n      <td>-243820.378723</td>\n      <td>120454.904974</td>\n    </tr>\n    <tr>\n      <th>84473</th>\n      <td>2.5</td>\n      <td>3.0</td>\n      <td>3128.0</td>\n      <td>913539.0</td>\n      <td>1</td>\n      <td>32.0</td>\n      <td>461142.904974</td>\n      <td>1.002322e+06</td>\n      <td>88783.428643</td>\n      <td>-452396.095026</td>\n    </tr>\n  </tbody>\n</table>\n<p>1285681 rows × 10 columns</p>\n</div>"
     },
     "execution_count": 13,
     "metadata": {},
     "output_type": "execute_result"
    }
   ],
   "source": [
    "train"
   ],
   "metadata": {
    "collapsed": false
   }
  },
  {
   "cell_type": "markdown",
   "source": [
    "Regression line:"
   ],
   "metadata": {
    "collapsed": false
   }
  },
  {
   "cell_type": "code",
   "execution_count": 14,
   "outputs": [
    {
     "data": {
      "text/plain": "<Figure size 432x288 with 1 Axes>",
      "image/png": "[encoded data removed]"
     },
     "metadata": {},
     "output_type": "display_data"
    }
   ],
   "source": [
    "plt.plot(train.calculatedfinishedsquarefeet,train.taxvaluedollarcnt,'o')\n",
    "plt.plot(train.calculatedfinishedsquarefeet,train.predictions)\n",
    "plt.show()"
   ],
   "metadata": {
    "collapsed": false
   }
  },
  {
   "cell_type": "markdown",
   "source": [
    "Residuals:"
   ],
   "metadata": {
    "collapsed": false
   }
  },
  {
   "cell_type": "code",
   "execution_count": 15,
   "outputs": [
    {
     "data": {
      "text/plain": "<Figure size 432x288 with 1 Axes>",
      "image/png": "[encoded data removed]"
     },
     "metadata": {},
     "output_type": "display_data"
    }
   ],
   "source": [
    "plt.plot(train.calculatedfinishedsquarefeet,train.residual,'o')\n",
    "plt.plot([0,70000],[0,0])\n",
    "plt.show()"
   ],
   "metadata": {
    "collapsed": false
   }
  },
  {
   "cell_type": "markdown",
   "source": [
    "Baseline Residuals"
   ],
   "metadata": {
    "collapsed": false
   }
  },
  {
   "cell_type": "code",
   "execution_count": 16,
   "outputs": [
    {
     "data": {
      "text/plain": "<Figure size 432x288 with 1 Axes>",
      "image/png": "[encoded data removed]"
     },
     "metadata": {},
     "output_type": "display_data"
    }
   ],
   "source": [
    "plt.plot(train.calculatedfinishedsquarefeet,train.baseline_residual,'o')\n",
    "plt.plot([0,70000],[0,0])\n",
    "plt.show()"
   ],
   "metadata": {
    "collapsed": false
   }
  },
  {
   "cell_type": "markdown",
   "source": [
    "SSE:"
   ],
   "metadata": {
    "collapsed": false
   }
  },
  {
   "cell_type": "code",
   "execution_count": 17,
   "outputs": [],
   "source": [
    "train['residual_squared'] = train.residual ** 2\n",
    "train['baseline_residual_squared'] = train.baseline_residual ** 2"
   ],
   "metadata": {
    "collapsed": false
   }
  },
  {
   "cell_type": "code",
   "execution_count": 18,
   "outputs": [
    {
     "data": {
      "text/plain": "         bathroomcnt  bedroomcnt  calculatedfinishedsquarefeet  \\\n564018           1.0         3.0                        1373.0   \n2131776          3.0         5.0                        2668.0   \n1384152          2.0         4.0                        2048.0   \n577743           1.0         3.0                         936.0   \n2131422          3.0         3.0                        3166.0   \n...              ...         ...                           ...   \n1864178          3.0         5.0                        2736.0   \n1094831          2.0         3.0                        1560.0   \n946271           2.0         3.0                        1905.0   \n134615           1.0         2.0                        1011.0   \n84473            2.5         3.0                        3128.0   \n\n         taxvaluedollarcnt  location    age       baseline   predictions  \\\n564018             46093.0         0   75.0  461142.904974  2.516974e+05   \n2131776           320600.0         0   19.0  461142.904974  8.055774e+05   \n1384152           365818.0         0  102.0  461142.904974  5.403993e+05   \n577743            253220.0         1   76.0  461142.904974  6.478963e+04   \n2131422           592709.0         1   33.0  461142.904974  1.018575e+06   \n...                    ...       ...    ...            ...           ...   \n1864178           275000.0         0   17.0  461142.904974  8.346615e+05   \n1094831           346956.0         0   27.0  461142.904974  3.316785e+05   \n946271            355145.0         0   75.0  461142.904974  4.792373e+05   \n134615            340688.0         0  100.0  461142.904974  9.686762e+04   \n84473             913539.0         1   32.0  461142.904974  1.002322e+06   \n\n              residual  baseline_residual  residual_squared  \\\n564018   205604.399391      415049.904974      4.227317e+10   \n2131776  484977.406731      140542.904974      2.352031e+11   \n1384152  174581.333719       95324.904974      3.047864e+10   \n577743  -188430.371426      207922.904974      3.550600e+10   \n2131422  425866.278280     -131566.095026      1.813621e+11   \n...                ...                ...               ...   \n1864178  559661.453449      186142.904974      3.132209e+11   \n1094831  -15277.472136      114186.904974      2.334012e+08   \n946271   124092.294298      105997.904974      1.539890e+10   \n134615  -243820.378723      120454.904974      5.944838e+10   \n84473     88783.428643     -452396.095026      7.882497e+09   \n\n         baseline_residual_squared  \n564018                1.722664e+11  \n2131776               1.975231e+10  \n1384152               9.086838e+09  \n577743                4.323193e+10  \n2131422               1.730964e+10  \n...                            ...  \n1864178               3.464918e+10  \n1094831               1.303865e+10  \n946271                1.123556e+10  \n134615                1.450938e+10  \n84473                 2.046622e+11  \n\n[1285681 rows x 12 columns]",
      "text/html": "<div>\n<style scoped>\n    .dataframe tbody tr th:only-of-type {\n        vertical-align: middle;\n    }\n\n    .dataframe tbody tr th {\n        vertical-align: top;\n    }\n\n    .dataframe thead th {\n        text-align: right;\n    }\n</style>\n<table border=\"1\" class=\"dataframe\">\n  <thead>\n    <tr style=\"text-align: right;\">\n      <th></th>\n      <th>bathroomcnt</th>\n      <th>bedroomcnt</th>\n      <th>calculatedfinishedsquarefeet</th>\n      <th>taxvaluedollarcnt</th>\n      <th>location</th>\n      <th>age</th>\n      <th>baseline</th>\n      <th>predictions</th>\n      <th>residual</th>\n      <th>baseline_residual</th>\n      <th>residual_squared</th>\n      <th>baseline_residual_squared</th>\n    </tr>\n  </thead>\n  <tbody>\n    <tr>\n      <th>564018</th>\n      <td>1.0</td>\n      <td>3.0</td>\n      <td>1373.0</td>\n      <td>46093.0</td>\n      <td>0</td>\n      <td>75.0</td>\n      <td>461142.904974</td>\n      <td>2.516974e+05</td>\n      <td>205604.399391</td>\n      <td>415049.904974</td>\n      <td>4.227317e+10</td>\n      <td>1.722664e+11</td>\n    </tr>\n    <tr>\n      <th>2131776</th>\n      <td>3.0</td>\n      <td>5.0</td>\n      <td>2668.0</td>\n      <td>320600.0</td>\n      <td>0</td>\n      <td>19.0</td>\n      <td>461142.904974</td>\n      <td>8.055774e+05</td>\n      <td>484977.406731</td>\n      <td>140542.904974</td>\n      <td>2.352031e+11</td>\n      <td>1.975231e+10</td>\n    </tr>\n    <tr>\n      <th>1384152</th>\n      <td>2.0</td>\n      <td>4.0</td>\n      <td>2048.0</td>\n      <td>365818.0</td>\n      <td>0</td>\n      <td>102.0</td>\n      <td>461142.904974</td>\n      <td>5.403993e+05</td>\n      <td>174581.333719</td>\n      <td>95324.904974</td>\n      <td>3.047864e+10</td>\n      <td>9.086838e+09</td>\n    </tr>\n    <tr>\n      <th>577743</th>\n      <td>1.0</td>\n      <td>3.0</td>\n      <td>936.0</td>\n      <td>253220.0</td>\n      <td>1</td>\n      <td>76.0</td>\n      <td>461142.904974</td>\n      <td>6.478963e+04</td>\n      <td>-188430.371426</td>\n      <td>207922.904974</td>\n      <td>3.550600e+10</td>\n      <td>4.323193e+10</td>\n    </tr>\n    <tr>\n      <th>2131422</th>\n      <td>3.0</td>\n      <td>3.0</td>\n      <td>3166.0</td>\n      <td>592709.0</td>\n      <td>1</td>\n      <td>33.0</td>\n      <td>461142.904974</td>\n      <td>1.018575e+06</td>\n      <td>425866.278280</td>\n      <td>-131566.095026</td>\n      <td>1.813621e+11</td>\n      <td>1.730964e+10</td>\n    </tr>\n    <tr>\n      <th>...</th>\n      <td>...</td>\n      <td>...</td>\n      <td>...</td>\n      <td>...</td>\n      <td>...</td>\n      <td>...</td>\n      <td>...</td>\n      <td>...</td>\n      <td>...</td>\n      <td>...</td>\n      <td>...</td>\n      <td>...</td>\n    </tr>\n    <tr>\n      <th>1864178</th>\n      <td>3.0</td>\n      <td>5.0</td>\n      <td>2736.0</td>\n      <td>275000.0</td>\n      <td>0</td>\n      <td>17.0</td>\n      <td>461142.904974</td>\n      <td>8.346615e+05</td>\n      <td>559661.453449</td>\n      <td>186142.904974</td>\n      <td>3.132209e+11</td>\n      <td>3.464918e+10</td>\n    </tr>\n    <tr>\n      <th>1094831</th>\n      <td>2.0</td>\n      <td>3.0</td>\n      <td>1560.0</td>\n      <td>346956.0</td>\n      <td>0</td>\n      <td>27.0</td>\n      <td>461142.904974</td>\n      <td>3.316785e+05</td>\n      <td>-15277.472136</td>\n      <td>114186.904974</td>\n      <td>2.334012e+08</td>\n      <td>1.303865e+10</td>\n    </tr>\n    <tr>\n      <th>946271</th>\n      <td>2.0</td>\n      <td>3.0</td>\n      <td>1905.0</td>\n      <td>355145.0</td>\n      <td>0</td>\n      <td>75.0</td>\n      <td>461142.904974</td>\n      <td>4.792373e+05</td>\n      <td>124092.294298</td>\n      <td>105997.904974</td>\n      <td>1.539890e+10</td>\n      <td>1.123556e+10</td>\n    </tr>\n    <tr>\n      <th>134615</th>\n      <td>1.0</td>\n      <td>2.0</td>\n      <td>1011.0</td>\n      <td>340688.0</td>\n      <td>0</td>\n      <td>100.0</td>\n      <td>461142.904974</td>\n      <td>9.686762e+04</td>\n      <td>-243820.378723</td>\n      <td>120454.904974</td>\n      <td>5.944838e+10</td>\n      <td>1.450938e+10</td>\n    </tr>\n    <tr>\n      <th>84473</th>\n      <td>2.5</td>\n      <td>3.0</td>\n      <td>3128.0</td>\n      <td>913539.0</td>\n      <td>1</td>\n      <td>32.0</td>\n      <td>461142.904974</td>\n      <td>1.002322e+06</td>\n      <td>88783.428643</td>\n      <td>-452396.095026</td>\n      <td>7.882497e+09</td>\n      <td>2.046622e+11</td>\n    </tr>\n  </tbody>\n</table>\n<p>1285681 rows × 12 columns</p>\n</div>"
     },
     "execution_count": 18,
     "metadata": {},
     "output_type": "execute_result"
    }
   ],
   "source": [
    "train"
   ],
   "metadata": {
    "collapsed": false
   }
  },
  {
   "cell_type": "code",
   "execution_count": 19,
   "outputs": [],
   "source": [
    "SSE = sum(train.residual_squared)\n",
    "baseline_SSE = sum(train.baseline_residual_squared)"
   ],
   "metadata": {
    "collapsed": false
   }
  },
  {
   "cell_type": "code",
   "execution_count": 20,
   "outputs": [
    {
     "data": {
      "text/plain": "3.7227802196742906e+17"
     },
     "execution_count": 20,
     "metadata": {},
     "output_type": "execute_result"
    }
   ],
   "source": [
    "SSE"
   ],
   "metadata": {
    "collapsed": false
   }
  },
  {
   "cell_type": "code",
   "execution_count": 21,
   "outputs": [
    {
     "data": {
      "text/plain": "5.953561049938085e+17"
     },
     "execution_count": 21,
     "metadata": {},
     "output_type": "execute_result"
    }
   ],
   "source": [
    "baseline_SSE"
   ],
   "metadata": {
    "collapsed": false
   }
  },
  {
   "cell_type": "code",
   "execution_count": 22,
   "outputs": [
    {
     "name": "stdout",
     "output_type": "stream",
     "text": [
      "baseline_SSE > SSE\n"
     ]
    }
   ],
   "source": [
    "if SSE > baseline_SSE:\n",
    "    print('SSE > baseline_SSE')\n",
    "else:\n",
    "    print('baseline_SSE > SSE')"
   ],
   "metadata": {
    "collapsed": false
   }
  },
  {
   "cell_type": "code",
   "execution_count": 23,
   "outputs": [
    {
     "data": {
      "text/plain": "289557068952.1188"
     },
     "execution_count": 23,
     "metadata": {},
     "output_type": "execute_result"
    }
   ],
   "source": [
    "MSE = SSE/len(train)\n",
    "MSE"
   ],
   "metadata": {
    "collapsed": false
   }
  },
  {
   "cell_type": "code",
   "execution_count": 24,
   "outputs": [],
   "source": [
    "baseline_MSE = baseline_SSE/len(train)"
   ],
   "metadata": {
    "collapsed": false
   }
  },
  {
   "cell_type": "code",
   "execution_count": 25,
   "outputs": [
    {
     "data": {
      "text/plain": "463066736611.81"
     },
     "execution_count": 25,
     "metadata": {},
     "output_type": "execute_result"
    }
   ],
   "source": [
    "baseline_MSE"
   ],
   "metadata": {
    "collapsed": false
   }
  },
  {
   "cell_type": "code",
   "execution_count": 26,
   "outputs": [
    {
     "name": "stdout",
     "output_type": "stream",
     "text": [
      "baseline_MSE > MSE\n"
     ]
    }
   ],
   "source": [
    "if MSE > baseline_MSE:\n",
    "    print('MSE > baseline MSE')\n",
    "else:\n",
    "    print('baseline_MSE > MSE')"
   ],
   "metadata": {
    "collapsed": false
   }
  },
  {
   "cell_type": "code",
   "execution_count": 27,
   "outputs": [
    {
     "name": "stdout",
     "output_type": "stream",
     "text": [
      "RMSE =  538105.0724088361\n",
      "RMSE baseline =  680490.070913463\n"
     ]
    }
   ],
   "source": [
    "from math import sqrt\n",
    "RMSE = sqrt(MSE)\n",
    "baseline_RMSE = sqrt(baseline_MSE)\n",
    "\n",
    "print(\"RMSE = \", RMSE)\n",
    "print(\"RMSE baseline = \", baseline_RMSE)\n"
   ],
   "metadata": {
    "collapsed": false
   }
  },
  {
   "cell_type": "code",
   "execution_count": 28,
   "outputs": [],
   "source": [
    "# compute explained sum of squares\n",
    "ESS = sum((train.residual - train.taxvaluedollarcnt.mean())**2)\n"
   ],
   "metadata": {
    "collapsed": false
   }
  },
  {
   "cell_type": "code",
   "execution_count": 29,
   "outputs": [],
   "source": [
    "TSS = ESS + SSE"
   ],
   "metadata": {
    "collapsed": false
   }
  },
  {
   "cell_type": "code",
   "execution_count": 30,
   "outputs": [
    {
     "name": "stdout",
     "output_type": "stream",
     "text": [
      "R-squared =  0.634\n",
      "Percent of variance in y explained by x =  63.4 %\n"
     ]
    }
   ],
   "source": [
    "R2 = ESS/TSS\n",
    "print('R-squared = ',round(R2,3))\n",
    "print(\"Percent of variance in y explained by x = \", round(R2*100,1), \"%\")\n"
   ],
   "metadata": {
    "collapsed": false
   }
  },
  {
   "cell_type": "markdown",
   "source": [
    "My model is better than the baseline"
   ],
   "metadata": {
    "collapsed": false
   }
  },
  {
   "cell_type": "code",
   "execution_count": 31,
   "outputs": [
    {
     "data": {
      "text/plain": "<matplotlib.collections.PathCollection at 0x7fbe16a47f70>"
     },
     "execution_count": 31,
     "metadata": {},
     "output_type": "execute_result"
    },
    {
     "data": {
      "text/plain": "<Figure size 432x288 with 1 Axes>",
      "image/png": "[encoded data removed]"
     },
     "metadata": {},
     "output_type": "display_data"
    }
   ],
   "source": [
    "plt.scatter(train.taxvaluedollarcnt,train.predictions)"
   ],
   "metadata": {
    "collapsed": false
   }
  },
  {
   "cell_type": "code",
   "execution_count": 32,
   "outputs": [
    {
     "data": {
      "text/plain": "<Figure size 432x288 with 1 Axes>",
      "image/png": "[encoded data removed]"
     },
     "metadata": {},
     "output_type": "display_data"
    }
   ],
   "source": [
    "plot_residuals(train.taxvaluedollarcnt,train.predictions)"
   ],
   "metadata": {
    "collapsed": false
   }
  },
  {
   "cell_type": "code",
   "execution_count": 33,
   "outputs": [
    {
     "data": {
      "text/plain": "('SSE = ',\n 3.7227802196742906e+17,\n 'MSE = ',\n 289557068952.1188,\n 'RMSE = ',\n 538105.0724088361,\n 'ESS = ',\n 6.456816592780056e+17,\n 'TSS = ',\n 1.0179596812454346e+18)"
     },
     "execution_count": 33,
     "metadata": {},
     "output_type": "execute_result"
    }
   ],
   "source": [
    "regression_errors(train.taxvaluedollarcnt,train.predictions)"
   ],
   "metadata": {
    "collapsed": false
   }
  },
  {
   "cell_type": "code",
   "execution_count": 34,
   "outputs": [
    {
     "data": {
      "text/plain": "('SSE = ',\n 5.953561049938085e+17,\n 'MSE = ',\n 463066736611.81,\n 'RMSE = ',\n 680490.070913463)"
     },
     "execution_count": 34,
     "metadata": {},
     "output_type": "execute_result"
    }
   ],
   "source": [
    "baseline_mean_errors(train.taxvaluedollarcnt)"
   ],
   "metadata": {
    "collapsed": false
   }
  },
  {
   "cell_type": "code",
   "execution_count": 37,
   "outputs": [
    {
     "data": {
      "text/plain": "True"
     },
     "execution_count": 37,
     "metadata": {},
     "output_type": "execute_result"
    }
   ],
   "source": [
    "better_than_baseline(train.taxvaluedollarcnt,train.predictions)"
   ],
   "metadata": {
    "collapsed": false
   }
  },
  {
   "cell_type": "code",
   "execution_count": null,
   "outputs": [],
   "source": [],
   "metadata": {
    "collapsed": false
   }
  }
 ],
 "metadata": {
  "kernelspec": {
   "display_name": "Python 3",
   "language": "python",
   "name": "python3"
  },
  "language_info": {
   "codemirror_mode": {
    "name": "ipython",
    "version": 2
   },
   "file_extension": ".py",
   "mimetype": "text/x-python",
   "name": "python",
   "nbconvert_exporter": "python",
   "pygments_lexer": "ipython2",
   "version": "2.7.6"
  }
 },
 "nbformat": 4,
 "nbformat_minor": 0
}
