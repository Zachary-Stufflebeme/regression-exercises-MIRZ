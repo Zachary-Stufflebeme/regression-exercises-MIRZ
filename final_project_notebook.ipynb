{
 "cells": [
  {
   "cell_type": "code",
   "execution_count": 1,
   "id": "95313f75",
   "metadata": {},
   "outputs": [],
   "source": [
    "import numpy as np\n",
    "import pandas as pd\n",
    "import matplotlib.pyplot as plt\n",
    "import seaborn as sns\n",
    "from pathlib import Path \n",
    "import scipy.stats as stats\n",
    "import math\n",
    "import sklearn.preprocessing\n",
    "from env import get_db_url\n",
    "\n",
    "# modeling methods\n",
    "from sklearn.metrics import mean_squared_error\n",
    "from sklearn.linear_model import LinearRegression, LassoLars, TweedieRegressor\n",
    "from sklearn.preprocessing import PolynomialFeatures\n",
    "from sklearn.preprocessing import MinMaxScaler\n",
    "from sklearn.cluster import KMeans\n",
    "\n",
    "# train test split from sklearn\n",
    "from sklearn.model_selection import train_test_split\n",
    "from sklearn.preprocessing import MinMaxScaler, StandardScaler, RobustScaler, QuantileTransformer\n",
    "\n",
    "#import acquire\n",
    "import explore as e\n",
    "import wrangle_zillow as w\n",
    "import modeling as m \n",
    "#import NAME OF MODEL IMPORT as m\n",
    "\n",
    "import warnings\n",
    "warnings.filterwarnings(\"ignore\")"
   ]
  },
  {
   "cell_type": "markdown",
   "id": "e73cd7c0",
   "metadata": {},
   "source": [
    "\n",
    "* I acquired this data from the Codeup database using mySQL workbench\n",
    "* Each observation or row provides a value or description of a home\n",
    "* Each column represents a feature of the property\n",
    "* I acquired this data on Wednesday November 15th "
   ]
  },
  {
   "cell_type": "markdown",
   "id": "70550711",
   "metadata": {},
   "source": [
    "# Prepare\n",
    "\n",
    "* Removed nulls from rows then removed columns with most nulls\n",
    "* Year built column changed to age and imputed values to show age of property\n",
    "* Split data into train, validate and test(approx. 50/30/20)\n",
    "* Renamed multiple columns : bedrooms, bathrooms, complete square footage \n",
    "* Encoded fips values to reperesent county name\n",
    "\n",
    " "
   ]
  },
  {
   "cell_type": "code",
   "execution_count": 2,
   "id": "9e98484b",
   "metadata": {},
   "outputs": [],
   "source": [
    "#create, train, validate, test datasets\n",
    "df = w.get_zillow_data()\n"
   ]
  },
  {
   "cell_type": "code",
   "execution_count": 3,
   "id": "9b880b5f",
   "metadata": {
    "collapsed": false,
    "jupyter": {
     "outputs_hidden": false
    }
   },
   "outputs": [],
   "source": [
    "columns = ['buildingqualitytypeid','heatingorsystemdesc','heatingorsystemtypeid','unitcnt','propertyzoningdesc','propertylandusedesc','parcelid.1','id.1','censustractandblock']\n",
    "location = ['latitude','longitude','age']\n",
    "foundation = ['sqft','lotsizesquarefeet']"
   ]
  },
  {
   "cell_type": "code",
   "execution_count": 4,
   "id": "d39b087c",
   "metadata": {
    "collapsed": false,
    "jupyter": {
     "outputs_hidden": false
    }
   },
   "outputs": [],
   "source": [
    "df = w.data_prep(df,columns)"
   ]
  },
  {
   "cell_type": "code",
   "execution_count": 5,
   "id": "f66bd28b",
   "metadata": {},
   "outputs": [],
   "source": [
    "#create, train, validate, test datasetsb\n",
    "train, validate, test = w.wrangle_zillow(df)"
   ]
  },
  {
   "cell_type": "code",
   "execution_count": 6,
   "id": "0af9dea9",
   "metadata": {
    "collapsed": false,
    "jupyter": {
     "outputs_hidden": false
    }
   },
   "outputs": [
    {
     "data": {
      "text/html": [
       "<div>\n",
       "<style scoped>\n",
       "    .dataframe tbody tr th:only-of-type {\n",
       "        vertical-align: middle;\n",
       "    }\n",
       "\n",
       "    .dataframe tbody tr th {\n",
       "        vertical-align: top;\n",
       "    }\n",
       "\n",
       "    .dataframe thead th {\n",
       "        text-align: right;\n",
       "    }\n",
       "</style>\n",
       "<table border=\"1\" class=\"dataframe\">\n",
       "  <thead>\n",
       "    <tr style=\"text-align: right;\">\n",
       "      <th></th>\n",
       "      <th>propertylandusetypeid</th>\n",
       "      <th>parcelid</th>\n",
       "      <th>id</th>\n",
       "      <th>baths</th>\n",
       "      <th>beds</th>\n",
       "      <th>calculatedbathnbr</th>\n",
       "      <th>sqft</th>\n",
       "      <th>finishedsquarefeet12</th>\n",
       "      <th>fips</th>\n",
       "      <th>fullbathcnt</th>\n",
       "      <th>...</th>\n",
       "      <th>total_rooms</th>\n",
       "      <th>age</th>\n",
       "      <th>structuretaxvaluedollarcnt</th>\n",
       "      <th>property_value</th>\n",
       "      <th>assessmentyear</th>\n",
       "      <th>landtaxvaluedollarcnt</th>\n",
       "      <th>taxamount</th>\n",
       "      <th>max_transactiondate</th>\n",
       "      <th>logerror</th>\n",
       "      <th>transactiondate</th>\n",
       "    </tr>\n",
       "  </thead>\n",
       "  <tbody>\n",
       "    <tr>\n",
       "      <th>13535</th>\n",
       "      <td>261.0</td>\n",
       "      <td>12397906</td>\n",
       "      <td>66906</td>\n",
       "      <td>1.0</td>\n",
       "      <td>2.0</td>\n",
       "      <td>1.0</td>\n",
       "      <td>872.0</td>\n",
       "      <td>872.0</td>\n",
       "      <td>6037.0</td>\n",
       "      <td>1.0</td>\n",
       "      <td>...</td>\n",
       "      <td>0.0</td>\n",
       "      <td>1951.0</td>\n",
       "      <td>66570.0</td>\n",
       "      <td>332867.0</td>\n",
       "      <td>2016.0</td>\n",
       "      <td>266297.0</td>\n",
       "      <td>4357.93</td>\n",
       "      <td>2017-03-24</td>\n",
       "      <td>0.026998</td>\n",
       "      <td>2017-03-24</td>\n",
       "    </tr>\n",
       "    <tr>\n",
       "      <th>30453</th>\n",
       "      <td>261.0</td>\n",
       "      <td>14380619</td>\n",
       "      <td>2800936</td>\n",
       "      <td>3.0</td>\n",
       "      <td>3.0</td>\n",
       "      <td>3.0</td>\n",
       "      <td>2260.0</td>\n",
       "      <td>2260.0</td>\n",
       "      <td>6059.0</td>\n",
       "      <td>3.0</td>\n",
       "      <td>...</td>\n",
       "      <td>8.0</td>\n",
       "      <td>1976.0</td>\n",
       "      <td>204282.0</td>\n",
       "      <td>346335.0</td>\n",
       "      <td>2016.0</td>\n",
       "      <td>142053.0</td>\n",
       "      <td>3515.14</td>\n",
       "      <td>2017-06-09</td>\n",
       "      <td>0.037181</td>\n",
       "      <td>2017-06-09</td>\n",
       "    </tr>\n",
       "    <tr>\n",
       "      <th>13337</th>\n",
       "      <td>261.0</td>\n",
       "      <td>12902896</td>\n",
       "      <td>1127949</td>\n",
       "      <td>2.0</td>\n",
       "      <td>3.0</td>\n",
       "      <td>2.0</td>\n",
       "      <td>1091.0</td>\n",
       "      <td>1091.0</td>\n",
       "      <td>6037.0</td>\n",
       "      <td>2.0</td>\n",
       "      <td>...</td>\n",
       "      <td>0.0</td>\n",
       "      <td>1961.0</td>\n",
       "      <td>75710.0</td>\n",
       "      <td>126352.0</td>\n",
       "      <td>2016.0</td>\n",
       "      <td>50642.0</td>\n",
       "      <td>1893.90</td>\n",
       "      <td>2017-03-24</td>\n",
       "      <td>0.019205</td>\n",
       "      <td>2017-03-24</td>\n",
       "    </tr>\n",
       "    <tr>\n",
       "      <th>7660</th>\n",
       "      <td>261.0</td>\n",
       "      <td>11568321</td>\n",
       "      <td>2658421</td>\n",
       "      <td>6.0</td>\n",
       "      <td>5.0</td>\n",
       "      <td>6.0</td>\n",
       "      <td>4783.0</td>\n",
       "      <td>4783.0</td>\n",
       "      <td>6037.0</td>\n",
       "      <td>6.0</td>\n",
       "      <td>...</td>\n",
       "      <td>0.0</td>\n",
       "      <td>2013.0</td>\n",
       "      <td>1693460.0</td>\n",
       "      <td>3981978.0</td>\n",
       "      <td>2016.0</td>\n",
       "      <td>2288518.0</td>\n",
       "      <td>47785.18</td>\n",
       "      <td>2017-02-22</td>\n",
       "      <td>0.037875</td>\n",
       "      <td>2017-02-22</td>\n",
       "    </tr>\n",
       "    <tr>\n",
       "      <th>34175</th>\n",
       "      <td>261.0</td>\n",
       "      <td>13100555</td>\n",
       "      <td>1758804</td>\n",
       "      <td>5.0</td>\n",
       "      <td>5.0</td>\n",
       "      <td>5.0</td>\n",
       "      <td>4425.0</td>\n",
       "      <td>4425.0</td>\n",
       "      <td>6037.0</td>\n",
       "      <td>5.0</td>\n",
       "      <td>...</td>\n",
       "      <td>0.0</td>\n",
       "      <td>1999.0</td>\n",
       "      <td>720626.0</td>\n",
       "      <td>1261091.0</td>\n",
       "      <td>2016.0</td>\n",
       "      <td>540465.0</td>\n",
       "      <td>14379.50</td>\n",
       "      <td>2017-06-27</td>\n",
       "      <td>0.002652</td>\n",
       "      <td>2017-06-27</td>\n",
       "    </tr>\n",
       "    <tr>\n",
       "      <th>...</th>\n",
       "      <td>...</td>\n",
       "      <td>...</td>\n",
       "      <td>...</td>\n",
       "      <td>...</td>\n",
       "      <td>...</td>\n",
       "      <td>...</td>\n",
       "      <td>...</td>\n",
       "      <td>...</td>\n",
       "      <td>...</td>\n",
       "      <td>...</td>\n",
       "      <td>...</td>\n",
       "      <td>...</td>\n",
       "      <td>...</td>\n",
       "      <td>...</td>\n",
       "      <td>...</td>\n",
       "      <td>...</td>\n",
       "      <td>...</td>\n",
       "      <td>...</td>\n",
       "      <td>...</td>\n",
       "      <td>...</td>\n",
       "      <td>...</td>\n",
       "    </tr>\n",
       "    <tr>\n",
       "      <th>38066</th>\n",
       "      <td>261.0</td>\n",
       "      <td>14238880</td>\n",
       "      <td>638264</td>\n",
       "      <td>2.0</td>\n",
       "      <td>3.0</td>\n",
       "      <td>2.0</td>\n",
       "      <td>1611.0</td>\n",
       "      <td>1611.0</td>\n",
       "      <td>6059.0</td>\n",
       "      <td>2.0</td>\n",
       "      <td>...</td>\n",
       "      <td>6.0</td>\n",
       "      <td>1961.0</td>\n",
       "      <td>106597.0</td>\n",
       "      <td>654836.0</td>\n",
       "      <td>2016.0</td>\n",
       "      <td>548239.0</td>\n",
       "      <td>7041.04</td>\n",
       "      <td>2017-07-12</td>\n",
       "      <td>-0.006377</td>\n",
       "      <td>2017-07-12</td>\n",
       "    </tr>\n",
       "    <tr>\n",
       "      <th>48425</th>\n",
       "      <td>261.0</td>\n",
       "      <td>12438510</td>\n",
       "      <td>2110521</td>\n",
       "      <td>3.0</td>\n",
       "      <td>5.0</td>\n",
       "      <td>3.0</td>\n",
       "      <td>2652.0</td>\n",
       "      <td>2652.0</td>\n",
       "      <td>6037.0</td>\n",
       "      <td>3.0</td>\n",
       "      <td>...</td>\n",
       "      <td>0.0</td>\n",
       "      <td>1965.0</td>\n",
       "      <td>374482.0</td>\n",
       "      <td>789078.0</td>\n",
       "      <td>2016.0</td>\n",
       "      <td>414596.0</td>\n",
       "      <td>9365.87</td>\n",
       "      <td>2017-08-30</td>\n",
       "      <td>-0.008494</td>\n",
       "      <td>2017-08-30</td>\n",
       "    </tr>\n",
       "    <tr>\n",
       "      <th>19647</th>\n",
       "      <td>261.0</td>\n",
       "      <td>11508139</td>\n",
       "      <td>2077101</td>\n",
       "      <td>2.0</td>\n",
       "      <td>3.0</td>\n",
       "      <td>2.0</td>\n",
       "      <td>1962.0</td>\n",
       "      <td>1962.0</td>\n",
       "      <td>6037.0</td>\n",
       "      <td>2.0</td>\n",
       "      <td>...</td>\n",
       "      <td>0.0</td>\n",
       "      <td>1951.0</td>\n",
       "      <td>119815.0</td>\n",
       "      <td>396237.0</td>\n",
       "      <td>2016.0</td>\n",
       "      <td>276422.0</td>\n",
       "      <td>4630.60</td>\n",
       "      <td>2017-04-25</td>\n",
       "      <td>0.680864</td>\n",
       "      <td>2017-04-25</td>\n",
       "    </tr>\n",
       "    <tr>\n",
       "      <th>21717</th>\n",
       "      <td>261.0</td>\n",
       "      <td>14314819</td>\n",
       "      <td>161303</td>\n",
       "      <td>2.0</td>\n",
       "      <td>3.0</td>\n",
       "      <td>2.0</td>\n",
       "      <td>1714.0</td>\n",
       "      <td>1714.0</td>\n",
       "      <td>6059.0</td>\n",
       "      <td>2.0</td>\n",
       "      <td>...</td>\n",
       "      <td>6.0</td>\n",
       "      <td>1971.0</td>\n",
       "      <td>139951.0</td>\n",
       "      <td>411286.0</td>\n",
       "      <td>2016.0</td>\n",
       "      <td>271335.0</td>\n",
       "      <td>4590.46</td>\n",
       "      <td>2017-05-03</td>\n",
       "      <td>0.038707</td>\n",
       "      <td>2017-05-03</td>\n",
       "    </tr>\n",
       "    <tr>\n",
       "      <th>14227</th>\n",
       "      <td>261.0</td>\n",
       "      <td>17165634</td>\n",
       "      <td>2804111</td>\n",
       "      <td>2.0</td>\n",
       "      <td>6.0</td>\n",
       "      <td>2.0</td>\n",
       "      <td>2526.0</td>\n",
       "      <td>2526.0</td>\n",
       "      <td>6111.0</td>\n",
       "      <td>2.0</td>\n",
       "      <td>...</td>\n",
       "      <td>9.0</td>\n",
       "      <td>1950.0</td>\n",
       "      <td>79767.0</td>\n",
       "      <td>94344.0</td>\n",
       "      <td>2016.0</td>\n",
       "      <td>14577.0</td>\n",
       "      <td>1082.46</td>\n",
       "      <td>2017-08-01</td>\n",
       "      <td>-0.050630</td>\n",
       "      <td>2017-08-01</td>\n",
       "    </tr>\n",
       "  </tbody>\n",
       "</table>\n",
       "<p>28338 rows × 28 columns</p>\n",
       "</div>"
      ],
      "text/plain": [
       "       propertylandusetypeid  parcelid       id  baths  beds  \\\n",
       "13535                  261.0  12397906    66906    1.0   2.0   \n",
       "30453                  261.0  14380619  2800936    3.0   3.0   \n",
       "13337                  261.0  12902896  1127949    2.0   3.0   \n",
       "7660                   261.0  11568321  2658421    6.0   5.0   \n",
       "34175                  261.0  13100555  1758804    5.0   5.0   \n",
       "...                      ...       ...      ...    ...   ...   \n",
       "38066                  261.0  14238880   638264    2.0   3.0   \n",
       "48425                  261.0  12438510  2110521    3.0   5.0   \n",
       "19647                  261.0  11508139  2077101    2.0   3.0   \n",
       "21717                  261.0  14314819   161303    2.0   3.0   \n",
       "14227                  261.0  17165634  2804111    2.0   6.0   \n",
       "\n",
       "       calculatedbathnbr    sqft  finishedsquarefeet12    fips  fullbathcnt  \\\n",
       "13535                1.0   872.0                 872.0  6037.0          1.0   \n",
       "30453                3.0  2260.0                2260.0  6059.0          3.0   \n",
       "13337                2.0  1091.0                1091.0  6037.0          2.0   \n",
       "7660                 6.0  4783.0                4783.0  6037.0          6.0   \n",
       "34175                5.0  4425.0                4425.0  6037.0          5.0   \n",
       "...                  ...     ...                   ...     ...          ...   \n",
       "38066                2.0  1611.0                1611.0  6059.0          2.0   \n",
       "48425                3.0  2652.0                2652.0  6037.0          3.0   \n",
       "19647                2.0  1962.0                1962.0  6037.0          2.0   \n",
       "21717                2.0  1714.0                1714.0  6059.0          2.0   \n",
       "14227                2.0  2526.0                2526.0  6111.0          2.0   \n",
       "\n",
       "       ...  total_rooms     age  structuretaxvaluedollarcnt property_value  \\\n",
       "13535  ...          0.0  1951.0                     66570.0       332867.0   \n",
       "30453  ...          8.0  1976.0                    204282.0       346335.0   \n",
       "13337  ...          0.0  1961.0                     75710.0       126352.0   \n",
       "7660   ...          0.0  2013.0                   1693460.0      3981978.0   \n",
       "34175  ...          0.0  1999.0                    720626.0      1261091.0   \n",
       "...    ...          ...     ...                         ...            ...   \n",
       "38066  ...          6.0  1961.0                    106597.0       654836.0   \n",
       "48425  ...          0.0  1965.0                    374482.0       789078.0   \n",
       "19647  ...          0.0  1951.0                    119815.0       396237.0   \n",
       "21717  ...          6.0  1971.0                    139951.0       411286.0   \n",
       "14227  ...          9.0  1950.0                     79767.0        94344.0   \n",
       "\n",
       "       assessmentyear  landtaxvaluedollarcnt  taxamount  max_transactiondate  \\\n",
       "13535          2016.0               266297.0    4357.93           2017-03-24   \n",
       "30453          2016.0               142053.0    3515.14           2017-06-09   \n",
       "13337          2016.0                50642.0    1893.90           2017-03-24   \n",
       "7660           2016.0              2288518.0   47785.18           2017-02-22   \n",
       "34175          2016.0               540465.0   14379.50           2017-06-27   \n",
       "...               ...                    ...        ...                  ...   \n",
       "38066          2016.0               548239.0    7041.04           2017-07-12   \n",
       "48425          2016.0               414596.0    9365.87           2017-08-30   \n",
       "19647          2016.0               276422.0    4630.60           2017-04-25   \n",
       "21717          2016.0               271335.0    4590.46           2017-05-03   \n",
       "14227          2016.0                14577.0    1082.46           2017-08-01   \n",
       "\n",
       "       logerror  transactiondate  \n",
       "13535  0.026998       2017-03-24  \n",
       "30453  0.037181       2017-06-09  \n",
       "13337  0.019205       2017-03-24  \n",
       "7660   0.037875       2017-02-22  \n",
       "34175  0.002652       2017-06-27  \n",
       "...         ...              ...  \n",
       "38066 -0.006377       2017-07-12  \n",
       "48425 -0.008494       2017-08-30  \n",
       "19647  0.680864       2017-04-25  \n",
       "21717  0.038707       2017-05-03  \n",
       "14227 -0.050630       2017-08-01  \n",
       "\n",
       "[28338 rows x 28 columns]"
      ]
     },
     "execution_count": 6,
     "metadata": {},
     "output_type": "execute_result"
    }
   ],
   "source": [
    "train"
   ]
  },
  {
   "cell_type": "markdown",
   "id": "faaa0d40",
   "metadata": {},
   "source": [
    "# Exploration of Data"
   ]
  },
  {
   "cell_type": "markdown",
   "id": "6c7d7cb3",
   "metadata": {},
   "source": [
    "### What is the median and mean logerror? "
   ]
  },
  {
   "cell_type": "code",
   "execution_count": 7,
   "id": "2e273e0e",
   "metadata": {
    "scrolled": true
   },
   "outputs": [
    {
     "name": "stdout",
     "output_type": "stream",
     "text": [
      "Metric           Value\n",
      "----------  ----------\n",
      "Median      0.00684291\n",
      "Mean        0.0181363\n",
      "Difference  0.0112934\n"
     ]
    }
   ],
   "source": [
    "# table of logerror mean and median\n",
    "e.statistic_table(df)"
   ]
  },
  {
   "cell_type": "markdown",
   "id": "b3225e9e",
   "metadata": {},
   "source": [
    "### Takeaways\n",
    "\n",
    "- The median logerror is .0069\n",
    "- The mean logerror is .018\n",
    "- The difference between these values is .011"
   ]
  },
  {
   "cell_type": "markdown",
   "id": "55c05bee",
   "metadata": {},
   "source": [
    "# Statistical Questions"
   ]
  },
  {
   "cell_type": "markdown",
   "id": "5758f0c0",
   "metadata": {},
   "source": [
    "### Is there a signfiicant difference in mean logerror across the three counties?"
   ]
  },
  {
   "cell_type": "code",
   "execution_count": 8,
   "id": "66b53f7b",
   "metadata": {},
   "outputs": [
    {
     "data": {
      "image/png": "[encoded data removed]",
      "text/plain": [
       "<Figure size 432x288 with 1 Axes>"
      ]
     },
     "metadata": {
      "needs_background": "light"
     },
     "output_type": "display_data"
    }
   ],
   "source": [
    "# creates bar chart of logerror\n",
    "e.bar_chart(train,'fips','logerror')"
   ]
  },
  {
   "cell_type": "markdown",
   "id": "94c088fd",
   "metadata": {},
   "source": [
    "### Hypothesis\n",
    "\n",
    "- Ho: There is not a signficant difference in mean between logerror across counties<br>\n",
    "- Ha: There is a significant difference in mean  between logerror across counties"
   ]
  },
  {
   "cell_type": "code",
   "execution_count": 9,
   "id": "0cbbab9d",
   "metadata": {},
   "outputs": [
    {
     "name": "stdout",
     "output_type": "stream",
     "text": [
      "Kruska Result = 53.2321\n",
      "p = 2.7592338397679317e-12\n"
     ]
    }
   ],
   "source": [
    "# Statistical test results\n",
    "e.stats_property_location(train)"
   ]
  },
  {
   "cell_type": "markdown",
   "id": "d4939acf",
   "metadata": {},
   "source": [
    "### Takeaways \n",
    "\n",
    "- The counties have signficant differences in their mean log errors\n",
    "- Orange county appears to have the largest mean logerror\n",
    "a\n",
    "\n"
   ]
  },
  {
   "cell_type": "markdown",
   "id": "3e331dae",
   "metadata": {},
   "source": [
    "### Is there a correlation between taxamount and logerror?"
   ]
  },
  {
   "cell_type": "code",
   "execution_count": 10,
   "id": "a078b05a",
   "metadata": {},
   "outputs": [
    {
     "data": {
      "image/png": "[encoded data removed]",
      "text/plain": [
       "<Figure size 432x288 with 1 Axes>"
      ]
     },
     "metadata": {
      "needs_background": "light"
     },
     "output_type": "display_data"
    }
   ],
   "source": [
    "# Visualization \n",
    "e.scatter_plot(train)"
   ]
  },
  {
   "cell_type": "markdown",
   "id": "c7f24f45",
   "metadata": {},
   "source": [
    "### Hypothesis: \n",
    "\n",
    "Ho: There is is not a correlation between logerror and taxamount<br>\n",
    "Ha: There is a correlation between logerror and taxamount"
   ]
  },
  {
   "cell_type": "code",
   "execution_count": 11,
   "id": "2ce0f6a7",
   "metadata": {},
   "outputs": [
    {
     "name": "stdout",
     "output_type": "stream",
     "text": [
      "Correlation Strength = -0.0143\n",
      "p = 0.01603980724302495\n"
     ]
    }
   ],
   "source": [
    "# Statistcal test results\n",
    "e.correlation_stat_test(train,'taxamount')"
   ]
  },
  {
   "cell_type": "markdown",
   "id": "f453aa14",
   "metadata": {},
   "source": [
    "### Takeaways\n",
    "- There is a correlation beetween the taxamount and the logerror\n",
    "- As the price of the home increases the log error decreases \n",
    "\n",
    "\n"
   ]
  },
  {
   "cell_type": "markdown",
   "id": "ded898bd",
   "metadata": {},
   "source": [
    "### Is there a significant difference in the mean logerror of homes in the location cluster number one compared to the population?"
   ]
  },
  {
   "cell_type": "code",
   "execution_count": 12,
   "id": "d5763e54",
   "metadata": {},
   "outputs": [
    {
     "data": {
      "image/png": "[encoded data removed]",
      "text/plain": [
       "<Figure size 432x288 with 1 Axes>"
      ]
     },
     "metadata": {
      "needs_background": "light"
     },
     "output_type": "display_data"
    },
    {
     "data": {
      "image/png": "[encoded data removed]",
      "text/plain": [
       "<Figure size 432x288 with 1 Axes>"
      ]
     },
     "metadata": {
      "needs_background": "light"
     },
     "output_type": "display_data"
    }
   ],
   "source": [
    "# Visualization\n",
    "e.boxplots(train,location,5,1)"
   ]
  },
  {
   "cell_type": "markdown",
   "id": "bf940ff8",
   "metadata": {},
   "source": [
    "### Hypothesis: \n",
    "\n",
    "Ho: There is not a significant difference in the mean logerror of homes in foundation cluster number two compared to the population<br>\n",
    "Ha: There is a significant difference in the mean logerror of homes in foundation cluster number two compared to the population"
   ]
  },
  {
   "cell_type": "code",
   "execution_count": 13,
   "id": "117a5e9f",
   "metadata": {},
   "outputs": [
    {
     "name": "stdout",
     "output_type": "stream",
     "text": [
      "We reject $H_{0}$\n"
     ]
    },
    {
     "data": {
      "text/plain": [
       "(3.9215866859077404, 8.909651845831881e-05)"
      ]
     },
     "execution_count": 13,
     "metadata": {},
     "output_type": "execute_result"
    }
   ],
   "source": [
    "# Statistical test results \n",
    "e.ttest(train,location,5,1)"
   ]
  },
  {
   "cell_type": "markdown",
   "id": "26e3b7e4",
   "metadata": {},
   "source": [
    "### Takeaways\n",
    "\n",
    "- Rejecting the null here implies that this cluster could be a useful feature to help the performance of our model as the mean log error in this cluster is significantly different from the overall popultaion.\n"
   ]
  },
  {
   "cell_type": "markdown",
   "id": "10f369d5",
   "metadata": {},
   "source": [
    "### Is there a significant difference in the mean logerror of homes in the location cluster number two compared to the population?"
   ]
  },
  {
   "cell_type": "code",
   "execution_count": 14,
   "id": "49ec3a02",
   "metadata": {},
   "outputs": [
    {
     "data": {
      "image/png": "[encoded data removed]",
      "text/plain": [
       "<Figure size 432x288 with 1 Axes>"
      ]
     },
     "metadata": {
      "needs_background": "light"
     },
     "output_type": "display_data"
    },
    {
     "data": {
      "image/png": "[encoded data removed]",
      "text/plain": [
       "<Figure size 432x288 with 1 Axes>"
      ]
     },
     "metadata": {
      "needs_background": "light"
     },
     "output_type": "display_data"
    }
   ],
   "source": [
    "# visualization\n",
    "# Visualization\n",
    "e.boxplots(train,location,5,2)"
   ]
  },
  {
   "cell_type": "markdown",
   "id": "48819e3f",
   "metadata": {},
   "source": [
    "### Hypothesis\n",
    "\n",
    "Ho: There is not a significant difference in the mean logerror of homes in the location cluster number one compared to the population<br>\n",
    "Ha: There is a significant difference in the mean logerror of homes in the location cluster number one compared to the population"
   ]
  },
  {
   "cell_type": "code",
   "execution_count": 15,
   "id": "357ee08d",
   "metadata": {},
   "outputs": [
    {
     "name": "stdout",
     "output_type": "stream",
     "text": [
      "We reject $H_{0}$\n"
     ]
    },
    {
     "data": {
      "text/plain": [
       "(2.0792505008757365, 0.03762105270215126)"
      ]
     },
     "execution_count": 15,
     "metadata": {},
     "output_type": "execute_result"
    }
   ],
   "source": [
    "# Statistical test results \n",
    "e.ttest(train,location,5,2)"
   ]
  },
  {
   "cell_type": "markdown",
   "id": "5b226f87",
   "metadata": {},
   "source": [
    "### Takeaways\n",
    "- Rejecting the null here implies that this cluster could be a useful feature to help the performance of our model as the mean log error in this cluster is significantly different from the overall popultaion.\n"
   ]
  },
  {
   "cell_type": "markdown",
   "id": "80716f4e",
   "metadata": {},
   "source": [
    "## Exploration Summary\n",
    "\n",
    "- The median logerror is .0069\n",
    "- The counties have signficant differences in their mean log errors\n",
    "- As the price of the home increases the log error decreases \n",
    "- Properties within location cluster 1 have a different mean log error to the population\n",
    "- Properties within location cluster 2 have a different mean log error to the population\n",
    "\n",
    "\n",
    "\n",
    "\n",
    "\n"
   ]
  },
  {
   "cell_type": "markdown",
   "id": "bcbb6e0e",
   "metadata": {},
   "source": [
    "# Modeling"
   ]
  },
  {
   "cell_type": "markdown",
   "id": "8feb0ff4",
   "metadata": {},
   "source": [
    "### Introduction\n",
    "\n",
    "- I will use Root Mean Squared error as my evaluation metric\n",
    "- My baseline model is created from the Root Mean Squared error (RMSE) of the median logerror of the train and validate data set\n",
    "- The features chosen for the models are FILL IN FEATURES\n",
    "- Models will be evaluated on train and validate data sets \n",
    "- The model that performs the best will be evaluated on the test data"
   ]
  },
  {
   "cell_type": "code",
   "execution_count": 16,
   "id": "5365f54d",
   "metadata": {},
   "outputs": [],
   "source": [
    "# prepare data for models\n",
    "location_train_model_df = m.make_location_model_df(train,location, 5)\n",
    "location_validate_model_df = m.make_location_model_df(validate,location,5)\n",
    "location_test_model_df = m.make_location_model_df(test, location, 5)"
   ]
  },
  {
   "cell_type": "code",
   "execution_count": null,
   "id": "ab3a2618-0a12-458d-be1b-32330e23df70",
   "metadata": {},
   "outputs": [],
   "source": []
  },
  {
   "cell_type": "code",
   "execution_count": 17,
   "id": "e13d14f8-8fcc-4797-9d42-9d1bfb3f58c7",
   "metadata": {},
   "outputs": [],
   "source": [
    "foundation_train_model_df = m.make_foundation_model_df(train,foundation,4)\n",
    "foundation_validate_model_df = m.make_foundation_model_df(validate,foundation,4)\n",
    "foundation_test_model_df = m.make_foundation_model_df(test,foundation,4)"
   ]
  },
  {
   "cell_type": "markdown",
   "id": "f1c19cb5",
   "metadata": {},
   "source": [
    "## Baseline Model"
   ]
  },
  {
   "cell_type": "code",
   "execution_count": 18,
   "id": "9a597467",
   "metadata": {},
   "outputs": [
    {
     "name": "stdout",
     "output_type": "stream",
     "text": [
      "RMSE using Median\n",
      "Train/In-Sample:  0.18\n"
     ]
    }
   ],
   "source": [
    "# creating baseline model and printing resu\n",
    "m.baseline(train)"
   ]
  },
  {
   "cell_type": "markdown",
   "id": "06bdfee6",
   "metadata": {},
   "source": [
    "## LassoLars "
   ]
  },
  {
   "cell_type": "code",
   "execution_count": 19,
   "id": "44efe6b3-d799-4f91-90d0-dbdc77baac79",
   "metadata": {},
   "outputs": [
    {
     "name": "stdout",
     "output_type": "stream",
     "text": [
      "RMSE for Lasso + Lars\n",
      "Training/In-Sample:  0.17883017849045363 \n",
      "Validation/Out-of-Sample:  0.1621427261414958\n"
     ]
    }
   ],
   "source": [
    "#generating LassoLars modelresults using location features/clusters\n",
    "m.Lass(location_train_model_df,location_validate_model_df,train,validate)"
   ]
  },
  {
   "cell_type": "code",
   "execution_count": 20,
   "id": "c013561b-1ec2-4740-b5d8-8cc5373de25b",
   "metadata": {},
   "outputs": [
    {
     "name": "stdout",
     "output_type": "stream",
     "text": [
      "RMSE for Lasso + Lars\n",
      "Training/In-Sample:  0.17883017849045363 \n",
      "Validation/Out-of-Sample:  0.1621427261414958\n"
     ]
    }
   ],
   "source": [
    "#generating LassoLars model using foundation features/ clusters\n",
    "m.Lass(foundation_train_model_df,foundation_validate_model_df,train,validate)"
   ]
  },
  {
   "cell_type": "markdown",
   "id": "5d9b532a",
   "metadata": {},
   "source": [
    "### Takeaways \n",
    "- model performs better than baseline "
   ]
  },
  {
   "cell_type": "markdown",
   "id": "50a8bd73",
   "metadata": {},
   "source": [
    "## Polynomial Regression "
   ]
  },
  {
   "cell_type": "code",
   "execution_count": 21,
   "id": "7082c95c-4a6a-43cb-9e29-6ea142955109",
   "metadata": {},
   "outputs": [
    {
     "name": "stdout",
     "output_type": "stream",
     "text": [
      "RMSE for Polynomial Model, degrees=2\n",
      "Training/In-Sample:  0.17862222809265554 \n",
      "Validation/Out-of-Sample:  0.16212781413327454\n"
     ]
    }
   ],
   "source": [
    "# generating polynomial regression model results using location features/clusters\n",
    "m.regression_functions(location_train_model_df,location_validate_model_df,location_test_model_df,train,validate)"
   ]
  },
  {
   "cell_type": "code",
   "execution_count": 22,
   "id": "3893ceb7-5a56-4ccb-850b-2961020882cc",
   "metadata": {},
   "outputs": [
    {
     "name": "stdout",
     "output_type": "stream",
     "text": [
      "RMSE for Polynomial Model, degrees=2\n",
      "Training/In-Sample:  0.17868292180772677 \n",
      "Validation/Out-of-Sample:  0.16236369379657536\n"
     ]
    }
   ],
   "source": [
    "# generating polynomial regression model results using foundation features/clusters\n",
    "m.regression_functions(foundation_train_model_df,foundation_validate_model_df,foundation_test_model_df,train,validate)"
   ]
  },
  {
   "cell_type": "markdown",
   "id": "075dbd7f",
   "metadata": {},
   "source": [
    "## Takeaways\n",
    "- performs better than baseline \n"
   ]
  },
  {
   "cell_type": "markdown",
   "id": "7d0c320b",
   "metadata": {},
   "source": [
    "## Best Model"
   ]
  },
  {
   "cell_type": "markdown",
   "id": "a46e3769",
   "metadata": {},
   "source": [
    "- ####   Polynomial Regression Model Wins!"
   ]
  },
  {
   "cell_type": "markdown",
   "id": "491c0631",
   "metadata": {},
   "source": [
    "## Test Model\n",
    "- I will run my Polynomial Regression on my test data"
   ]
  },
  {
   "cell_type": "code",
   "execution_count": 23,
   "id": "b8db8ccd",
   "metadata": {
    "scrolled": true
   },
   "outputs": [
    {
     "name": "stdout",
     "output_type": "stream",
     "text": [
      "RMSE for Polynomial Model, degrees=2\n",
      "Validate/Out-of-Sample:  0.16186533157889813 \n",
      "Test/Out-of-Sample:  0.1799204195947181\n"
     ]
    }
   ],
   "source": [
    "# using model on test dataset \n",
    "m.model_test(location_train_model_df,location_validate_model_df,location_test_model_df,validate,test)"
   ]
  },
  {
   "cell_type": "markdown",
   "id": "0b3e186b",
   "metadata": {},
   "source": [
    "### Modeling Wrap \n",
    "\n",
    "* I would recommend this model for production because it is roughly a 7% improvement from the baseline"
   ]
  },
  {
   "cell_type": "markdown",
   "id": "6a3ce81f",
   "metadata": {},
   "source": [
    "## Conclusion\n",
    "\n",
    "### Summary\n",
    "- \n",
    "- \n",
    "- \n",
    "- \n",
    "- \n",
    "\n",
    "\n",
    "### Modeling Summary \n",
    "- The model uses \n",
    "- The final model performed approximately 7% better than the baseline\n",
    "- I would recommend this model for production\n",
    "\n",
    "\n",
    "### Recommendations\n",
    "* Have a team meeting to discuss how to analyze features specifc to location\n",
    "* Request more data to balance out the representation of transactions in Orange County and Ventura County \n",
    "\n",
    "\n",
    "### Next Steps\n",
    "* Take time to build a model solely based on location features\n",
    "* Look further into Los Angeles transactions impact on data"
   ]
  },
  {
   "cell_type": "code",
   "execution_count": null,
   "id": "0d9da803",
   "metadata": {},
   "outputs": [],
   "source": []
  }
 ],
 "metadata": {
  "kernelspec": {
   "display_name": "Python 3 (ipykernel)",
   "language": "python",
   "name": "python3"
  },
  "language_info": {
   "codemirror_mode": {
    "name": "ipython",
    "version": 3
   },
   "file_extension": ".py",
   "mimetype": "text/x-python",
   "name": "python",
   "nbconvert_exporter": "python",
   "pygments_lexer": "ipython3",
   "version": "3.9.12"
  },
  "vscode": {
   "interpreter": {
    "hash": "31f2aee4e71d21fbe5cf8b01ff0e069b9275f58929596ceb00d14d90e3e16cd6"
   }
  }
 },
 "nbformat": 4,
 "nbformat_minor": 5
}
