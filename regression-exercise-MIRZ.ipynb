{
 "cells": [
  {
   "cell_type": "code",
   "execution_count": 2,
   "metadata": {
    "collapsed": true
   },
   "outputs": [],
   "source": [
    "from grab_db import my_db\n",
    "import numpy as np\n",
    "import pandas as pd"
   ]
  },
  {
   "cell_type": "code",
   "execution_count": 28,
   "outputs": [],
   "source": [
    "zillow = my_db('''select bathroomcnt, bedroomcnt, calculatedfinishedsquarefeet, taxvaluedollarcnt, yearbuilt, taxamount, fips\n",
    " from properties_2017\n",
    " join propertylandusetype\n",
    " using(propertylandusetypeid)\n",
    " where(propertylandusetypeid = 261);''','zillow')"
   ],
   "metadata": {
    "collapsed": false
   }
  },
  {
   "cell_type": "code",
   "execution_count": 29,
   "outputs": [
    {
     "data": {
      "text/plain": "         bathroomcnt  bedroomcnt  calculatedfinishedsquarefeet  \\\n0                0.0         0.0                           NaN   \n1                0.0         0.0                           NaN   \n2                0.0         0.0                           NaN   \n3                0.0         0.0                           NaN   \n4                2.0         4.0                        3633.0   \n...              ...         ...                           ...   \n2152858          3.0         4.0                        2262.0   \n2152859          4.5         4.0                        3127.0   \n2152860          0.0         0.0                           NaN   \n2152861          2.5         3.0                        1974.0   \n2152862          4.0         4.0                        2110.0   \n\n         taxvaluedollarcnt  yearbuilt  taxamount    fips  \n0                  27516.0        NaN        NaN  6037.0  \n1                     10.0        NaN        NaN  6037.0  \n2                     10.0        NaN        NaN  6037.0  \n3                   2108.0        NaN     174.21  6037.0  \n4                 296425.0     2005.0    6941.39  6037.0  \n...                    ...        ...        ...     ...  \n2152858           960756.0     2015.0   13494.52  6059.0  \n2152859           536061.0     2014.0    6244.16  6059.0  \n2152860           208057.0        NaN    5783.88  6059.0  \n2152861           424353.0     2015.0    5302.70  6059.0  \n2152862           554009.0     2014.0    6761.20  6037.0  \n\n[2152863 rows x 7 columns]",
      "text/html": "<div>\n<style scoped>\n    .dataframe tbody tr th:only-of-type {\n        vertical-align: middle;\n    }\n\n    .dataframe tbody tr th {\n        vertical-align: top;\n    }\n\n    .dataframe thead th {\n        text-align: right;\n    }\n</style>\n<table border=\"1\" class=\"dataframe\">\n  <thead>\n    <tr style=\"text-align: right;\">\n      <th></th>\n      <th>bathroomcnt</th>\n      <th>bedroomcnt</th>\n      <th>calculatedfinishedsquarefeet</th>\n      <th>taxvaluedollarcnt</th>\n      <th>yearbuilt</th>\n      <th>taxamount</th>\n      <th>fips</th>\n    </tr>\n  </thead>\n  <tbody>\n    <tr>\n      <th>0</th>\n      <td>0.0</td>\n      <td>0.0</td>\n      <td>NaN</td>\n      <td>27516.0</td>\n      <td>NaN</td>\n      <td>NaN</td>\n      <td>6037.0</td>\n    </tr>\n    <tr>\n      <th>1</th>\n      <td>0.0</td>\n      <td>0.0</td>\n      <td>NaN</td>\n      <td>10.0</td>\n      <td>NaN</td>\n      <td>NaN</td>\n      <td>6037.0</td>\n    </tr>\n    <tr>\n      <th>2</th>\n      <td>0.0</td>\n      <td>0.0</td>\n      <td>NaN</td>\n      <td>10.0</td>\n      <td>NaN</td>\n      <td>NaN</td>\n      <td>6037.0</td>\n    </tr>\n    <tr>\n      <th>3</th>\n      <td>0.0</td>\n      <td>0.0</td>\n      <td>NaN</td>\n      <td>2108.0</td>\n      <td>NaN</td>\n      <td>174.21</td>\n      <td>6037.0</td>\n    </tr>\n    <tr>\n      <th>4</th>\n      <td>2.0</td>\n      <td>4.0</td>\n      <td>3633.0</td>\n      <td>296425.0</td>\n      <td>2005.0</td>\n      <td>6941.39</td>\n      <td>6037.0</td>\n    </tr>\n    <tr>\n      <th>...</th>\n      <td>...</td>\n      <td>...</td>\n      <td>...</td>\n      <td>...</td>\n      <td>...</td>\n      <td>...</td>\n      <td>...</td>\n    </tr>\n    <tr>\n      <th>2152858</th>\n      <td>3.0</td>\n      <td>4.0</td>\n      <td>2262.0</td>\n      <td>960756.0</td>\n      <td>2015.0</td>\n      <td>13494.52</td>\n      <td>6059.0</td>\n    </tr>\n    <tr>\n      <th>2152859</th>\n      <td>4.5</td>\n      <td>4.0</td>\n      <td>3127.0</td>\n      <td>536061.0</td>\n      <td>2014.0</td>\n      <td>6244.16</td>\n      <td>6059.0</td>\n    </tr>\n    <tr>\n      <th>2152860</th>\n      <td>0.0</td>\n      <td>0.0</td>\n      <td>NaN</td>\n      <td>208057.0</td>\n      <td>NaN</td>\n      <td>5783.88</td>\n      <td>6059.0</td>\n    </tr>\n    <tr>\n      <th>2152861</th>\n      <td>2.5</td>\n      <td>3.0</td>\n      <td>1974.0</td>\n      <td>424353.0</td>\n      <td>2015.0</td>\n      <td>5302.70</td>\n      <td>6059.0</td>\n    </tr>\n    <tr>\n      <th>2152862</th>\n      <td>4.0</td>\n      <td>4.0</td>\n      <td>2110.0</td>\n      <td>554009.0</td>\n      <td>2014.0</td>\n      <td>6761.20</td>\n      <td>6037.0</td>\n    </tr>\n  </tbody>\n</table>\n<p>2152863 rows × 7 columns</p>\n</div>"
     },
     "execution_count": 29,
     "metadata": {},
     "output_type": "execute_result"
    }
   ],
   "source": [
    "zillow"
   ],
   "metadata": {
    "collapsed": false
   }
  },
  {
   "cell_type": "code",
   "execution_count": 30,
   "outputs": [],
   "source": [
    "#making zillow equal to all rows that arent all null\n",
    "zillow1 = zillow[zillow.isnull().sum(axis = 1) < len(zillow.columns)]\n",
    "\n"
   ],
   "metadata": {
    "collapsed": false
   }
  },
  {
   "cell_type": "code",
   "execution_count": 31,
   "outputs": [
    {
     "data": {
      "text/plain": "         bathroomcnt  bedroomcnt  calculatedfinishedsquarefeet  \\\n0                0.0         0.0                           NaN   \n1                0.0         0.0                           NaN   \n2                0.0         0.0                           NaN   \n3                0.0         0.0                           NaN   \n5                0.0         0.0                           NaN   \n...              ...         ...                           ...   \n2152823          0.0         0.0                           NaN   \n2152844          0.0         0.0                           NaN   \n2152854          0.0         0.0                           NaN   \n2152857          0.0         0.0                           NaN   \n2152860          0.0         0.0                           NaN   \n\n         taxvaluedollarcnt  yearbuilt  taxamount    fips  \n0                  27516.0        NaN        NaN  6037.0  \n1                     10.0        NaN        NaN  6037.0  \n2                     10.0        NaN        NaN  6037.0  \n3                   2108.0        NaN     174.21  6037.0  \n5                    124.0        NaN        NaN  6037.0  \n...                    ...        ...        ...     ...  \n2152823          2568893.0        NaN   27309.30  6059.0  \n2152844            92679.0        NaN    1090.16  6111.0  \n2152854          1198476.0        NaN        NaN  6037.0  \n2152857          1087111.0        NaN   19313.08  6059.0  \n2152860           208057.0        NaN    5783.88  6059.0  \n\n[12628 rows x 7 columns]",
      "text/html": "<div>\n<style scoped>\n    .dataframe tbody tr th:only-of-type {\n        vertical-align: middle;\n    }\n\n    .dataframe tbody tr th {\n        vertical-align: top;\n    }\n\n    .dataframe thead th {\n        text-align: right;\n    }\n</style>\n<table border=\"1\" class=\"dataframe\">\n  <thead>\n    <tr style=\"text-align: right;\">\n      <th></th>\n      <th>bathroomcnt</th>\n      <th>bedroomcnt</th>\n      <th>calculatedfinishedsquarefeet</th>\n      <th>taxvaluedollarcnt</th>\n      <th>yearbuilt</th>\n      <th>taxamount</th>\n      <th>fips</th>\n    </tr>\n  </thead>\n  <tbody>\n    <tr>\n      <th>0</th>\n      <td>0.0</td>\n      <td>0.0</td>\n      <td>NaN</td>\n      <td>27516.0</td>\n      <td>NaN</td>\n      <td>NaN</td>\n      <td>6037.0</td>\n    </tr>\n    <tr>\n      <th>1</th>\n      <td>0.0</td>\n      <td>0.0</td>\n      <td>NaN</td>\n      <td>10.0</td>\n      <td>NaN</td>\n      <td>NaN</td>\n      <td>6037.0</td>\n    </tr>\n    <tr>\n      <th>2</th>\n      <td>0.0</td>\n      <td>0.0</td>\n      <td>NaN</td>\n      <td>10.0</td>\n      <td>NaN</td>\n      <td>NaN</td>\n      <td>6037.0</td>\n    </tr>\n    <tr>\n      <th>3</th>\n      <td>0.0</td>\n      <td>0.0</td>\n      <td>NaN</td>\n      <td>2108.0</td>\n      <td>NaN</td>\n      <td>174.21</td>\n      <td>6037.0</td>\n    </tr>\n    <tr>\n      <th>5</th>\n      <td>0.0</td>\n      <td>0.0</td>\n      <td>NaN</td>\n      <td>124.0</td>\n      <td>NaN</td>\n      <td>NaN</td>\n      <td>6037.0</td>\n    </tr>\n    <tr>\n      <th>...</th>\n      <td>...</td>\n      <td>...</td>\n      <td>...</td>\n      <td>...</td>\n      <td>...</td>\n      <td>...</td>\n      <td>...</td>\n    </tr>\n    <tr>\n      <th>2152823</th>\n      <td>0.0</td>\n      <td>0.0</td>\n      <td>NaN</td>\n      <td>2568893.0</td>\n      <td>NaN</td>\n      <td>27309.30</td>\n      <td>6059.0</td>\n    </tr>\n    <tr>\n      <th>2152844</th>\n      <td>0.0</td>\n      <td>0.0</td>\n      <td>NaN</td>\n      <td>92679.0</td>\n      <td>NaN</td>\n      <td>1090.16</td>\n      <td>6111.0</td>\n    </tr>\n    <tr>\n      <th>2152854</th>\n      <td>0.0</td>\n      <td>0.0</td>\n      <td>NaN</td>\n      <td>1198476.0</td>\n      <td>NaN</td>\n      <td>NaN</td>\n      <td>6037.0</td>\n    </tr>\n    <tr>\n      <th>2152857</th>\n      <td>0.0</td>\n      <td>0.0</td>\n      <td>NaN</td>\n      <td>1087111.0</td>\n      <td>NaN</td>\n      <td>19313.08</td>\n      <td>6059.0</td>\n    </tr>\n    <tr>\n      <th>2152860</th>\n      <td>0.0</td>\n      <td>0.0</td>\n      <td>NaN</td>\n      <td>208057.0</td>\n      <td>NaN</td>\n      <td>5783.88</td>\n      <td>6059.0</td>\n    </tr>\n  </tbody>\n</table>\n<p>12628 rows × 7 columns</p>\n</div>"
     },
     "execution_count": 31,
     "metadata": {},
     "output_type": "execute_result"
    }
   ],
   "source": [
    "\n",
    "zillow1[zillow1.isna().any(axis=1)]\n"
   ],
   "metadata": {
    "collapsed": false
   }
  },
  {
   "cell_type": "code",
   "execution_count": 32,
   "outputs": [],
   "source": [
    "# we can impute all nulls in yearbuilt to 0 where there are no bedrooms and bathrooms as this means that there is likely nothing built.\n",
    "zillow1.yearbuilt[(zillow1.bathroomcnt == 0.0) & (zillow1.bedroomcnt == 0.0)] = zillow1.yearbuilt[(zillow1.bathroomcnt == 0) & (zillow1.bedroomcnt == 0.0)].fillna(0)"
   ],
   "metadata": {
    "collapsed": false
   }
  },
  {
   "cell_type": "code",
   "execution_count": 33,
   "outputs": [
    {
     "data": {
      "text/plain": "         bathroomcnt  bedroomcnt  calculatedfinishedsquarefeet  \\\n0                0.0         0.0                           NaN   \n1                0.0         0.0                           NaN   \n2                0.0         0.0                           NaN   \n3                0.0         0.0                           NaN   \n5                0.0         0.0                           NaN   \n...              ...         ...                           ...   \n2152823          0.0         0.0                           NaN   \n2152844          0.0         0.0                           NaN   \n2152854          0.0         0.0                           NaN   \n2152857          0.0         0.0                           NaN   \n2152860          0.0         0.0                           NaN   \n\n         taxvaluedollarcnt  yearbuilt  taxamount    fips  \n0                  27516.0        0.0        NaN  6037.0  \n1                     10.0        0.0        NaN  6037.0  \n2                     10.0        0.0        NaN  6037.0  \n3                   2108.0        0.0     174.21  6037.0  \n5                    124.0        0.0        NaN  6037.0  \n...                    ...        ...        ...     ...  \n2152823          2568893.0        0.0   27309.30  6059.0  \n2152844            92679.0        0.0    1090.16  6111.0  \n2152854          1198476.0        0.0        NaN  6037.0  \n2152857          1087111.0        0.0   19313.08  6059.0  \n2152860           208057.0        0.0    5783.88  6059.0  \n\n[12308 rows x 7 columns]",
      "text/html": "<div>\n<style scoped>\n    .dataframe tbody tr th:only-of-type {\n        vertical-align: middle;\n    }\n\n    .dataframe tbody tr th {\n        vertical-align: top;\n    }\n\n    .dataframe thead th {\n        text-align: right;\n    }\n</style>\n<table border=\"1\" class=\"dataframe\">\n  <thead>\n    <tr style=\"text-align: right;\">\n      <th></th>\n      <th>bathroomcnt</th>\n      <th>bedroomcnt</th>\n      <th>calculatedfinishedsquarefeet</th>\n      <th>taxvaluedollarcnt</th>\n      <th>yearbuilt</th>\n      <th>taxamount</th>\n      <th>fips</th>\n    </tr>\n  </thead>\n  <tbody>\n    <tr>\n      <th>0</th>\n      <td>0.0</td>\n      <td>0.0</td>\n      <td>NaN</td>\n      <td>27516.0</td>\n      <td>0.0</td>\n      <td>NaN</td>\n      <td>6037.0</td>\n    </tr>\n    <tr>\n      <th>1</th>\n      <td>0.0</td>\n      <td>0.0</td>\n      <td>NaN</td>\n      <td>10.0</td>\n      <td>0.0</td>\n      <td>NaN</td>\n      <td>6037.0</td>\n    </tr>\n    <tr>\n      <th>2</th>\n      <td>0.0</td>\n      <td>0.0</td>\n      <td>NaN</td>\n      <td>10.0</td>\n      <td>0.0</td>\n      <td>NaN</td>\n      <td>6037.0</td>\n    </tr>\n    <tr>\n      <th>3</th>\n      <td>0.0</td>\n      <td>0.0</td>\n      <td>NaN</td>\n      <td>2108.0</td>\n      <td>0.0</td>\n      <td>174.21</td>\n      <td>6037.0</td>\n    </tr>\n    <tr>\n      <th>5</th>\n      <td>0.0</td>\n      <td>0.0</td>\n      <td>NaN</td>\n      <td>124.0</td>\n      <td>0.0</td>\n      <td>NaN</td>\n      <td>6037.0</td>\n    </tr>\n    <tr>\n      <th>...</th>\n      <td>...</td>\n      <td>...</td>\n      <td>...</td>\n      <td>...</td>\n      <td>...</td>\n      <td>...</td>\n      <td>...</td>\n    </tr>\n    <tr>\n      <th>2152823</th>\n      <td>0.0</td>\n      <td>0.0</td>\n      <td>NaN</td>\n      <td>2568893.0</td>\n      <td>0.0</td>\n      <td>27309.30</td>\n      <td>6059.0</td>\n    </tr>\n    <tr>\n      <th>2152844</th>\n      <td>0.0</td>\n      <td>0.0</td>\n      <td>NaN</td>\n      <td>92679.0</td>\n      <td>0.0</td>\n      <td>1090.16</td>\n      <td>6111.0</td>\n    </tr>\n    <tr>\n      <th>2152854</th>\n      <td>0.0</td>\n      <td>0.0</td>\n      <td>NaN</td>\n      <td>1198476.0</td>\n      <td>0.0</td>\n      <td>NaN</td>\n      <td>6037.0</td>\n    </tr>\n    <tr>\n      <th>2152857</th>\n      <td>0.0</td>\n      <td>0.0</td>\n      <td>NaN</td>\n      <td>1087111.0</td>\n      <td>0.0</td>\n      <td>19313.08</td>\n      <td>6059.0</td>\n    </tr>\n    <tr>\n      <th>2152860</th>\n      <td>0.0</td>\n      <td>0.0</td>\n      <td>NaN</td>\n      <td>208057.0</td>\n      <td>0.0</td>\n      <td>5783.88</td>\n      <td>6059.0</td>\n    </tr>\n  </tbody>\n</table>\n<p>12308 rows × 7 columns</p>\n</div>"
     },
     "execution_count": 33,
     "metadata": {},
     "output_type": "execute_result"
    }
   ],
   "source": [
    "zillow1[zillow1.isna().any(axis=1)]"
   ],
   "metadata": {
    "collapsed": false
   }
  },
  {
   "cell_type": "code",
   "execution_count": 34,
   "outputs": [],
   "source": [
    "zillow1.calculatedfinishedsquarefeet[zillow1.yearbuilt == 0.0] = zillow1.calculatedfinishedsquarefeet[zillow1.yearbuilt == 0.0].replace(np.nan,0)"
   ],
   "metadata": {
    "collapsed": false
   }
  },
  {
   "cell_type": "code",
   "execution_count": 35,
   "outputs": [
    {
     "data": {
      "text/plain": "0          0.0\n1          0.0\n2          0.0\n3          0.0\n5          0.0\n          ... \n2152823    0.0\n2152844    0.0\n2152854    0.0\n2152857    0.0\n2152860    0.0\nName: calculatedfinishedsquarefeet, Length: 8065, dtype: float64"
     },
     "execution_count": 35,
     "metadata": {},
     "output_type": "execute_result"
    }
   ],
   "source": [
    "zillow1.calculatedfinishedsquarefeet[zillow1.yearbuilt == 0.0].replace(np.nan,0)"
   ],
   "metadata": {
    "collapsed": false
   }
  },
  {
   "cell_type": "code",
   "execution_count": 36,
   "outputs": [
    {
     "data": {
      "text/plain": "         bathroomcnt  bedroomcnt  calculatedfinishedsquarefeet  \\\n0                0.0         0.0                           0.0   \n1                0.0         0.0                           0.0   \n2                0.0         0.0                           0.0   \n5                0.0         0.0                           0.0   \n10               0.0         0.0                           0.0   \n...              ...         ...                           ...   \n2150217          1.0         2.0                           NaN   \n2151358          1.5         2.0                        1482.0   \n2152488          2.0         3.0                         992.0   \n2152503          1.0         3.0                        1894.0   \n2152854          0.0         0.0                           0.0   \n\n         taxvaluedollarcnt  yearbuilt  taxamount    fips  \n0                  27516.0        0.0        NaN  6037.0  \n1                     10.0        0.0        NaN  6037.0  \n2                     10.0        0.0        NaN  6037.0  \n5                    124.0        0.0        NaN  6037.0  \n10                 11009.0        0.0        NaN  6037.0  \n...                    ...        ...        ...     ...  \n2150217            73360.0        NaN    1786.28  6059.0  \n2151358           169038.0     1954.0        NaN  6059.0  \n2152488           104040.0     2001.0        NaN  6037.0  \n2152503           179732.0        NaN        NaN  6037.0  \n2152854          1198476.0        0.0        NaN  6037.0  \n\n[6292 rows x 7 columns]",
      "text/html": "<div>\n<style scoped>\n    .dataframe tbody tr th:only-of-type {\n        vertical-align: middle;\n    }\n\n    .dataframe tbody tr th {\n        vertical-align: top;\n    }\n\n    .dataframe thead th {\n        text-align: right;\n    }\n</style>\n<table border=\"1\" class=\"dataframe\">\n  <thead>\n    <tr style=\"text-align: right;\">\n      <th></th>\n      <th>bathroomcnt</th>\n      <th>bedroomcnt</th>\n      <th>calculatedfinishedsquarefeet</th>\n      <th>taxvaluedollarcnt</th>\n      <th>yearbuilt</th>\n      <th>taxamount</th>\n      <th>fips</th>\n    </tr>\n  </thead>\n  <tbody>\n    <tr>\n      <th>0</th>\n      <td>0.0</td>\n      <td>0.0</td>\n      <td>0.0</td>\n      <td>27516.0</td>\n      <td>0.0</td>\n      <td>NaN</td>\n      <td>6037.0</td>\n    </tr>\n    <tr>\n      <th>1</th>\n      <td>0.0</td>\n      <td>0.0</td>\n      <td>0.0</td>\n      <td>10.0</td>\n      <td>0.0</td>\n      <td>NaN</td>\n      <td>6037.0</td>\n    </tr>\n    <tr>\n      <th>2</th>\n      <td>0.0</td>\n      <td>0.0</td>\n      <td>0.0</td>\n      <td>10.0</td>\n      <td>0.0</td>\n      <td>NaN</td>\n      <td>6037.0</td>\n    </tr>\n    <tr>\n      <th>5</th>\n      <td>0.0</td>\n      <td>0.0</td>\n      <td>0.0</td>\n      <td>124.0</td>\n      <td>0.0</td>\n      <td>NaN</td>\n      <td>6037.0</td>\n    </tr>\n    <tr>\n      <th>10</th>\n      <td>0.0</td>\n      <td>0.0</td>\n      <td>0.0</td>\n      <td>11009.0</td>\n      <td>0.0</td>\n      <td>NaN</td>\n      <td>6037.0</td>\n    </tr>\n    <tr>\n      <th>...</th>\n      <td>...</td>\n      <td>...</td>\n      <td>...</td>\n      <td>...</td>\n      <td>...</td>\n      <td>...</td>\n      <td>...</td>\n    </tr>\n    <tr>\n      <th>2150217</th>\n      <td>1.0</td>\n      <td>2.0</td>\n      <td>NaN</td>\n      <td>73360.0</td>\n      <td>NaN</td>\n      <td>1786.28</td>\n      <td>6059.0</td>\n    </tr>\n    <tr>\n      <th>2151358</th>\n      <td>1.5</td>\n      <td>2.0</td>\n      <td>1482.0</td>\n      <td>169038.0</td>\n      <td>1954.0</td>\n      <td>NaN</td>\n      <td>6059.0</td>\n    </tr>\n    <tr>\n      <th>2152488</th>\n      <td>2.0</td>\n      <td>3.0</td>\n      <td>992.0</td>\n      <td>104040.0</td>\n      <td>2001.0</td>\n      <td>NaN</td>\n      <td>6037.0</td>\n    </tr>\n    <tr>\n      <th>2152503</th>\n      <td>1.0</td>\n      <td>3.0</td>\n      <td>1894.0</td>\n      <td>179732.0</td>\n      <td>NaN</td>\n      <td>NaN</td>\n      <td>6037.0</td>\n    </tr>\n    <tr>\n      <th>2152854</th>\n      <td>0.0</td>\n      <td>0.0</td>\n      <td>0.0</td>\n      <td>1198476.0</td>\n      <td>0.0</td>\n      <td>NaN</td>\n      <td>6037.0</td>\n    </tr>\n  </tbody>\n</table>\n<p>6292 rows × 7 columns</p>\n</div>"
     },
     "execution_count": 36,
     "metadata": {},
     "output_type": "execute_result"
    }
   ],
   "source": [
    "zillow1[zillow1.isna().any(axis=1)]"
   ],
   "metadata": {
    "collapsed": false
   }
  },
  {
   "cell_type": "code",
   "execution_count": 37,
   "outputs": [],
   "source": [
    "zillow1 = zillow1.drop(columns = 'taxamount')"
   ],
   "metadata": {
    "collapsed": false
   }
  },
  {
   "cell_type": "code",
   "execution_count": 38,
   "outputs": [],
   "source": [
    "zillow1 = zillow1.dropna()"
   ],
   "metadata": {
    "collapsed": false
   }
  },
  {
   "cell_type": "code",
   "execution_count": 39,
   "outputs": [
    {
     "data": {
      "text/plain": "         bathroomcnt  bedroomcnt  calculatedfinishedsquarefeet  \\\n0                0.0         0.0                           0.0   \n1                0.0         0.0                           0.0   \n2                0.0         0.0                           0.0   \n3                0.0         0.0                           0.0   \n4                2.0         4.0                        3633.0   \n...              ...         ...                           ...   \n2152858          3.0         4.0                        2262.0   \n2152859          4.5         4.0                        3127.0   \n2152860          0.0         0.0                           0.0   \n2152861          2.5         3.0                        1974.0   \n2152862          4.0         4.0                        2110.0   \n\n         taxvaluedollarcnt  yearbuilt    fips  \n0                  27516.0        0.0  6037.0  \n1                     10.0        0.0  6037.0  \n2                     10.0        0.0  6037.0  \n3                   2108.0        0.0  6037.0  \n4                 296425.0     2005.0  6037.0  \n...                    ...        ...     ...  \n2152858           960756.0     2015.0  6059.0  \n2152859           536061.0     2014.0  6059.0  \n2152860           208057.0        0.0  6059.0  \n2152861           424353.0     2015.0  6059.0  \n2152862           554009.0     2014.0  6037.0  \n\n[2150493 rows x 6 columns]",
      "text/html": "<div>\n<style scoped>\n    .dataframe tbody tr th:only-of-type {\n        vertical-align: middle;\n    }\n\n    .dataframe tbody tr th {\n        vertical-align: top;\n    }\n\n    .dataframe thead th {\n        text-align: right;\n    }\n</style>\n<table border=\"1\" class=\"dataframe\">\n  <thead>\n    <tr style=\"text-align: right;\">\n      <th></th>\n      <th>bathroomcnt</th>\n      <th>bedroomcnt</th>\n      <th>calculatedfinishedsquarefeet</th>\n      <th>taxvaluedollarcnt</th>\n      <th>yearbuilt</th>\n      <th>fips</th>\n    </tr>\n  </thead>\n  <tbody>\n    <tr>\n      <th>0</th>\n      <td>0.0</td>\n      <td>0.0</td>\n      <td>0.0</td>\n      <td>27516.0</td>\n      <td>0.0</td>\n      <td>6037.0</td>\n    </tr>\n    <tr>\n      <th>1</th>\n      <td>0.0</td>\n      <td>0.0</td>\n      <td>0.0</td>\n      <td>10.0</td>\n      <td>0.0</td>\n      <td>6037.0</td>\n    </tr>\n    <tr>\n      <th>2</th>\n      <td>0.0</td>\n      <td>0.0</td>\n      <td>0.0</td>\n      <td>10.0</td>\n      <td>0.0</td>\n      <td>6037.0</td>\n    </tr>\n    <tr>\n      <th>3</th>\n      <td>0.0</td>\n      <td>0.0</td>\n      <td>0.0</td>\n      <td>2108.0</td>\n      <td>0.0</td>\n      <td>6037.0</td>\n    </tr>\n    <tr>\n      <th>4</th>\n      <td>2.0</td>\n      <td>4.0</td>\n      <td>3633.0</td>\n      <td>296425.0</td>\n      <td>2005.0</td>\n      <td>6037.0</td>\n    </tr>\n    <tr>\n      <th>...</th>\n      <td>...</td>\n      <td>...</td>\n      <td>...</td>\n      <td>...</td>\n      <td>...</td>\n      <td>...</td>\n    </tr>\n    <tr>\n      <th>2152858</th>\n      <td>3.0</td>\n      <td>4.0</td>\n      <td>2262.0</td>\n      <td>960756.0</td>\n      <td>2015.0</td>\n      <td>6059.0</td>\n    </tr>\n    <tr>\n      <th>2152859</th>\n      <td>4.5</td>\n      <td>4.0</td>\n      <td>3127.0</td>\n      <td>536061.0</td>\n      <td>2014.0</td>\n      <td>6059.0</td>\n    </tr>\n    <tr>\n      <th>2152860</th>\n      <td>0.0</td>\n      <td>0.0</td>\n      <td>0.0</td>\n      <td>208057.0</td>\n      <td>0.0</td>\n      <td>6059.0</td>\n    </tr>\n    <tr>\n      <th>2152861</th>\n      <td>2.5</td>\n      <td>3.0</td>\n      <td>1974.0</td>\n      <td>424353.0</td>\n      <td>2015.0</td>\n      <td>6059.0</td>\n    </tr>\n    <tr>\n      <th>2152862</th>\n      <td>4.0</td>\n      <td>4.0</td>\n      <td>2110.0</td>\n      <td>554009.0</td>\n      <td>2014.0</td>\n      <td>6037.0</td>\n    </tr>\n  </tbody>\n</table>\n<p>2150493 rows × 6 columns</p>\n</div>"
     },
     "execution_count": 39,
     "metadata": {},
     "output_type": "execute_result"
    }
   ],
   "source": [
    "zillow1"
   ],
   "metadata": {
    "collapsed": false
   }
  },
  {
   "cell_type": "code",
   "execution_count": null,
   "outputs": [],
   "source": [],
   "metadata": {
    "collapsed": false,
    "pycharm": {
     "is_executing": true
    }
   }
  },
  {
   "cell_type": "code",
   "execution_count": 39,
   "outputs": [],
   "source": [],
   "metadata": {
    "collapsed": false
   }
  }
 ],
 "metadata": {
  "kernelspec": {
   "display_name": "Python 3",
   "language": "python",
   "name": "python3"
  },
  "language_info": {
   "codemirror_mode": {
    "name": "ipython",
    "version": 2
   },
   "file_extension": ".py",
   "mimetype": "text/x-python",
   "name": "python",
   "nbconvert_exporter": "python",
   "pygments_lexer": "ipython2",
   "version": "2.7.6"
  }
 },
 "nbformat": 4,
 "nbformat_minor": 0
}
